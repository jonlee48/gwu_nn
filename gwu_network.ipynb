{
 "cells": [
  {
   "cell_type": "markdown",
   "metadata": {},
   "source": [
    "# Understanding our Class Library\n",
    "We'll be using the gwu_nn library to dive a bit deeper into how neural networks work and get a better handle on how we can manipulate our layers and activation functions to build better networks"
   ]
  },
  {
   "cell_type": "code",
   "execution_count": 1,
   "metadata": {},
   "outputs": [],
   "source": [
    "import numpy as np\n",
    "import matplotlib.pyplot as plt\n",
    "\n",
    "from sklearn.model_selection import train_test_split\n",
    "#from gwu_nn.activation_layers import Sigmoid"
   ]
  },
  {
   "cell_type": "markdown",
   "metadata": {},
   "source": [
    "## Setting up our Data\n",
    "To explore how our GWU_Network library works we'll reuse the example data from the ML Crash Course. As the data is not linearly solvable, solving this problem will also show the flexibility of our network"
   ]
  },
  {
   "cell_type": "code",
   "execution_count": 2,
   "metadata": {},
   "outputs": [],
   "source": [
    "import pandas as pd\n",
    "import numpy as np\n",
    "import matplotlib.pyplot as plt\n",
    "from tensorflow.keras.datasets import mnist"
   ]
  },
  {
   "cell_type": "code",
   "execution_count": 3,
   "metadata": {},
   "outputs": [
    {
     "name": "stdout",
     "output_type": "stream",
     "text": [
      "(28, 28)\n"
     ]
    }
   ],
   "source": [
    "(x_train, y_train), (x_test, y_test) = mnist.load_data()\n",
    "print(x_train[0].shape)\n",
    "#x_train[0]"
   ]
  },
  {
   "cell_type": "code",
   "execution_count": 4,
   "metadata": {},
   "outputs": [
    {
     "data": {
      "text/plain": [
       "5"
      ]
     },
     "execution_count": 4,
     "metadata": {},
     "output_type": "execute_result"
    },
    {
     "data": {
      "image/png": "[encoded data removed]",
      "text/plain": [
       "<Figure size 432x288 with 1 Axes>"
      ]
     },
     "metadata": {
      "needs_background": "light"
     },
     "output_type": "display_data"
    }
   ],
   "source": [
    "plt.imshow(x_train[0], cmap='gray')\n",
    "y_train[0]"
   ]
  },
  {
   "cell_type": "code",
   "execution_count": 5,
   "metadata": {},
   "outputs": [
    {
     "name": "stdout",
     "output_type": "stream",
     "text": [
      "(28, 28, 1)\n",
      "10\n"
     ]
    }
   ],
   "source": [
    "from tensorflow.keras.utils import to_categorical\n",
    "\n",
    "# Reshaping the inputs\n",
    "x_train = x_train.reshape(x_train.shape[0], 28, 28, 1).astype('float32')\n",
    "x_test = x_test.reshape(x_test.shape[0], 28, 28, 1).astype('float32')\n",
    "input_shape = x_train[0].shape\n",
    "print(input_shape) # What is our input shape/shape of our image\n",
    "\n",
    "# Turning the outputs into one-hot encoded representations\n",
    "y_train_one = to_categorical(y_train)\n",
    "y_test_one = to_categorical(y_test)\n",
    "num_classes = y_test_one.shape[1]\n",
    "print(num_classes) # How many classes are there?"
   ]
  },
  {
   "cell_type": "code",
   "execution_count": 6,
   "metadata": {},
   "outputs": [
    {
     "name": "stdout",
     "output_type": "stream",
     "text": [
      "5, five\n",
      "5, five\n"
     ]
    }
   ],
   "source": [
    "from numpy import argmax\n",
    "\n",
    "# This is our label to real world term dictionary\n",
    "label_dict = {\n",
    " 0: '0, zero',\n",
    " 1: '1, one',\n",
    " 2: '2, two',\n",
    " 3: '3, three',\n",
    " 4: '4, four',\n",
    " 5: '5, five',\n",
    " 6: '6, six',\n",
    " 7: '7, seven',\n",
    " 8: '8, eight',\n",
    " 9: '9, nine'\n",
    "}\n",
    "\n",
    "# Depending on the format we may need argmax to interpret the results\n",
    "print(label_dict[y_train[0]])\n",
    "print(label_dict[argmax(y_train_one[0])])"
   ]
  },
  {
   "cell_type": "code",
   "execution_count": 7,
   "metadata": {},
   "outputs": [
    {
     "name": "stdout",
     "output_type": "stream",
     "text": [
      "(60000, 28, 28, 1)\n"
     ]
    },
    {
     "data": {
      "text/plain": [
       "(28, 28, 1)"
      ]
     },
     "execution_count": 7,
     "metadata": {},
     "output_type": "execute_result"
    }
   ],
   "source": [
    "print(x_train.shape)\n",
    "#print(x_train[0])\n",
    "x_train[0].shape"
   ]
  },
  {
   "cell_type": "code",
   "execution_count": 8,
   "metadata": {},
   "outputs": [
    {
     "name": "stdout",
     "output_type": "stream",
     "text": [
      "(60000, 10)\n",
      "[0. 0. 0. 0. 0. 1. 0. 0. 0. 0.]\n"
     ]
    }
   ],
   "source": [
    "print(y_train_one.shape)\n",
    "print(y_train_one[0])"
   ]
  },
  {
   "cell_type": "code",
   "execution_count": 9,
   "metadata": {},
   "outputs": [
    {
     "data": {
      "text/plain": [
       "(4, 5)"
      ]
     },
     "execution_count": 9,
     "metadata": {},
     "output_type": "execute_result"
    }
   ],
   "source": [
    "inp = np.zeros((3,4,5))\n",
    "out = np.zeros((2,1))\n",
    "#np.ndarray(shape=(2,2,3))\n",
    "\n",
    "output = inp.shape\n",
    "output[1:]"
   ]
  },
  {
   "cell_type": "markdown",
   "metadata": {},
   "source": [
    "## The GWUNetwork Class\n",
    "This class is the main structure used to house our network. Like many standard libraries, our GWUNetwork or neural network model works by adding layers to it.\n",
    "\n",
    "```python\n",
    "class GWUNetwork():\n",
    "\n",
    "    def __init__(self):\n",
    "        self.layers = []\n",
    "        self.loss = None\n",
    "        self.loss_prime = None\n",
    "\n",
    "    def add(self, layer):\n",
    "\n",
    "    def get_weights(self):\n",
    "\n",
    "    #def set_loss(self, loss):\n",
    "       \n",
    "    def predict(self, input_data):\n",
    "       \n",
    "    def measure_loss(self, x, y):\n",
    "\n",
    "    def fit(self, x_train, y_train, epochs):\n",
    "```"
   ]
  },
  {
   "cell_type": "markdown",
   "metadata": {},
   "source": [
    "So when we create a network it is initially empty, as it doesn't contain any layers"
   ]
  },
  {
   "cell_type": "code",
   "execution_count": 10,
   "metadata": {},
   "outputs": [
    {
     "name": "stdout",
     "output_type": "stream",
     "text": [
      "Model: Empty\n"
     ]
    }
   ],
   "source": [
    "from gwu_nn.gwu_network import GWUNetwork\n",
    "from gwu_nn.layers import Dense, Convolutional, Flatten\n",
    "\n",
    "network = GWUNetwork()\n",
    "print(network)"
   ]
  },
  {
   "cell_type": "markdown",
   "metadata": {},
   "source": [
    "## Adding Layers\n",
    "To begin building our network we need to start adding functionality or layers. Each layer we add will increase the complexity and depth of our model. However, we'll find that for most simple problems 3-4 layers are typically enough.\n",
    "\n",
    "Currently the GWU_NN library only supports densely connected layers, this means that every input node is connected to every output node."
   ]
  },
  {
   "cell_type": "code",
   "execution_count": 11,
   "metadata": {},
   "outputs": [
    {
     "name": "stdout",
     "output_type": "stream",
     "text": [
      "(28, 28, 2)\n",
      "(1, 1568)\n",
      "Model:\n",
      "Convolutional - (Input:(28, 28, 1), Output:(28, 28, 2))\n",
      "Flatten - (Input:(28, 28, 2), Output:(1, 1568))\n",
      "Dense - (Input:1568, Output:10)\n",
      "\n"
     ]
    }
   ],
   "source": [
    "network.add(Convolutional(num_kernels=2, kernel_size=3, activation='relu', input_size=x_train[0].shape))\n",
    "network.add(Flatten())\n",
    "network.add(Dense(10, activation='sigmoid'))\n",
    "\n",
    "print(network)"
   ]
  },
  {
   "cell_type": "markdown",
   "metadata": {},
   "source": [
    "### Sigmoid Activation Layer/Function\n",
    "\n",
    "Notice that the sigmoid layer/function works nearly identical to the Dense layer, just here:\n",
    " - activation -> forward propogation\n",
    " - activation_partial_derivative -> backward propogation\n",
    " \n",
    "``` python\n",
    "class SigmoidActivation(ActivationFunction):\n",
    "\n",
    "    @classmethod\n",
    "    def activation(cls, x):\n",
    "        return 1 / (1 + np.exp(-x))\n",
    "\n",
    "    @classmethod\n",
    "    def activation_partial_derivative(cls, x):\n",
    "        return np.exp(-x) / (1 + np.exp(-x))**2\n",
    "```"
   ]
  },
  {
   "cell_type": "markdown",
   "metadata": {},
   "source": [
    "## Compiling Our Model\n",
    "Finally to complete our model we need to compile it. This final step defines our loss function, optimizer, learning_rate, and more (when working with larger libraries)."
   ]
  },
  {
   "cell_type": "code",
   "execution_count": 12,
   "metadata": {},
   "outputs": [
    {
     "name": "stdout",
     "output_type": "stream",
     "text": [
      "Model:\n",
      "Convolutional - (Input:(28, 28, 1), Output:(28, 28, 2))\n",
      "Flatten - (Input:(28, 28, 2), Output:(1, 1568))\n",
      "Dense - (Input:1568, Output:10)\n",
      "\n"
     ]
    }
   ],
   "source": [
    "network.compile(loss='log_loss', lr=0.01)\n",
    "print(network)"
   ]
  },
  {
   "cell_type": "markdown",
   "metadata": {},
   "source": [
    "### Our Loss Function\n",
    "We can see that our **log_loss** function parallels exactly what we had in our perceptron/logistic regression computational graph\n",
    "\n",
    "```python\n",
    "class LogLoss(LossFunction):\n",
    "\n",
    "    @classmethod\n",
    "    def loss(cls, y_true, y_pred):\n",
    "        return np.mean(-np.log(y_pred)*y_true + -np.log(1-y_pred)*(1-y_true))\n",
    "\n",
    "    @classmethod\n",
    "    def loss_partial_derivative(cls, y_true, y_pred):\n",
    "        return -np.sum(y_true - y_pred)\n",
    "```"
   ]
  },
  {
   "cell_type": "markdown",
   "metadata": {},
   "source": [
    "## Fitting or Training our Model\n",
    "With everything put in place, the last step is to train our model\n",
    " - *batch_size (currently not supported): How many datapoints to train on for each backprop/gradient descent*\n",
    " - *epochs: How many times we loop over the data*"
   ]
  },
  {
   "cell_type": "code",
   "execution_count": 13,
   "metadata": {},
   "outputs": [
    {
     "name": "stderr",
     "output_type": "stream",
     "text": [
      "/mnt/d/sync/gw/fall2021/csci6907_neural_networks/gwu_nn/gwu_nn/loss_functions.py:34: RuntimeWarning: divide by zero encountered in log\n",
      "  return np.mean(-np.log(y_pred)*y_true + -np.log(1-y_pred)*(1-y_true))\n",
      "/mnt/d/sync/gw/fall2021/csci6907_neural_networks/gwu_nn/gwu_nn/activation_functions.py:44: RuntimeWarning: overflow encountered in exp\n",
      "  out = 1 / (1 + np.exp(-x))\n",
      "/mnt/d/sync/gw/fall2021/csci6907_neural_networks/gwu_nn/gwu_nn/activation_functions.py:58: RuntimeWarning: overflow encountered in exp\n",
      "  return np.exp(-x) / (1 + np.exp(-x))**2\n",
      "/mnt/d/sync/gw/fall2021/csci6907_neural_networks/gwu_nn/gwu_nn/activation_functions.py:58: RuntimeWarning: invalid value encountered in double_scalars\n",
      "  return np.exp(-x) / (1 + np.exp(-x))**2\n",
      "/home/jumpingjon/.local/lib/python3.8/site-packages/numpy/lib/function_base.py:2246: RuntimeWarning: invalid value encountered in activation_partial_derivative (vectorized)\n",
      "  outputs = ufunc(*inputs)\n",
      "/home/jumpingjon/.local/lib/python3.8/site-packages/numpy/lib/function_base.py:2246: RuntimeWarning: invalid value encountered in activation (vectorized)\n",
      "  outputs = ufunc(*inputs)\n"
     ]
    },
    {
     "name": "stdout",
     "output_type": "stream",
     "text": [
      "epoch 1/1   error=nan\n"
     ]
    }
   ],
   "source": [
    "sample = 50\n",
    "x_train_sample = x_train[0:sample]\n",
    "y_train_sample = y_train[0:sample]\n",
    "\n",
    "network.fit(x_train_sample, y_train_sample, epochs=1, batch_size=1)"
   ]
  },
  {
   "cell_type": "code",
   "execution_count": null,
   "metadata": {},
   "outputs": [],
   "source": []
  },
  {
   "cell_type": "markdown",
   "metadata": {},
   "source": [
    "Here is a streamlined representation of our network\n",
    "\n",
    "```python\n",
    "network = GWUNetwork()\n",
    "network.add(Dense(14, True, activation='relu', input_size=7))\n",
    "network.add(Dense(1, True, activation='sigmoid'))\n",
    "network.compile(loss='log_loss', lr=0.001)\n",
    "network.fit(X_train, y_train, epochs=100, batch_size=20)\n",
    "```"
   ]
  },
  {
   "cell_type": "markdown",
   "metadata": {},
   "source": [
    "### Deeper Look at Training\n",
    "```python\n",
    "    def fit(self, x_train, y_train, batch_size, epochs):\n",
    "        # sample dimension first\n",
    "        samples = len(x_train)\n",
    "\n",
    "        # training loop\n",
    "        for i in range(epochs):\n",
    "            err = 0\n",
    "            for j in range(samples):\n",
    "                # forward propagation\n",
    "                output = x_train[j].reshape(1, -1)\n",
    "                for layer in self.layers:\n",
    "                    output = layer.forward_propagation(output)\n",
    "\n",
    "                # compute loss (for display purpose only)\n",
    "                err += self.loss(y_train[j], output)\n",
    "\n",
    "                # backward propagation\n",
    "                error = self.loss_prime(y_train[j], output)\n",
    "                for layer in reversed(self.layers):\n",
    "                    error = layer.backward_propagation(error, self.learning_rate)\n",
    "\n",
    "            # calculate average error on all samples\n",
    "            if i % 10 == 0:\n",
    "                err /= samples\n",
    "                print('epoch %d/%d   error=%f' % (i + 1, epochs, err))\n",
    "```"
   ]
  },
  {
   "cell_type": "code",
   "execution_count": 14,
   "metadata": {},
   "outputs": [
    {
     "data": {
      "text/plain": [
       "[array([[nan, nan, nan, nan, nan, nan, nan, nan, nan, nan]]),\n",
       " array([[nan, nan, nan, nan, nan, nan, nan, nan, nan, nan]])]"
      ]
     },
     "execution_count": 14,
     "metadata": {},
     "output_type": "execute_result"
    }
   ],
   "source": [
    "network.predict(x_test[:2])"
   ]
  },
  {
   "cell_type": "code",
   "execution_count": 15,
   "metadata": {},
   "outputs": [
    {
     "data": {
      "text/plain": [
       "(3, 3, 2)"
      ]
     },
     "execution_count": 15,
     "metadata": {},
     "output_type": "execute_result"
    }
   ],
   "source": [
    "network.layers[0].kernels.shape"
   ]
  },
  {
   "cell_type": "code",
   "execution_count": 16,
   "metadata": {},
   "outputs": [
    {
     "data": {
      "text/plain": [
       "array([[[nan, nan],\n",
       "        [nan, nan],\n",
       "        [nan, nan]],\n",
       "\n",
       "       [[nan, nan],\n",
       "        [nan, nan],\n",
       "        [nan, nan]],\n",
       "\n",
       "       [[nan, nan],\n",
       "        [nan, nan],\n",
       "        [nan, nan]]])"
      ]
     },
     "execution_count": 16,
     "metadata": {},
     "output_type": "execute_result"
    }
   ],
   "source": [
    "network.layers[0].kernels"
   ]
  },
  {
   "cell_type": "code",
   "execution_count": 17,
   "metadata": {},
   "outputs": [
    {
     "ename": "NameError",
     "evalue": "name 'train' is not defined",
     "output_type": "error",
     "traceback": [
      "\u001b[0;31m---------------------------------------------------------------------------\u001b[0m",
      "\u001b[0;31mNameError\u001b[0m                                 Traceback (most recent call last)",
      "\u001b[0;32m/tmp/ipykernel_31345/1147710336.py\u001b[0m in \u001b[0;36m<module>\u001b[0;34m\u001b[0m\n\u001b[0;32m----> 1\u001b[0;31m \u001b[0mtrain\u001b[0m\u001b[0;34m[\u001b[0m\u001b[0;36m0\u001b[0m\u001b[0;34m]\u001b[0m\u001b[0;34m.\u001b[0m\u001b[0mreshape\u001b[0m\u001b[0;34m(\u001b[0m\u001b[0;36m1\u001b[0m\u001b[0;34m,\u001b[0m \u001b[0;34m-\u001b[0m\u001b[0;36m1\u001b[0m\u001b[0;34m)\u001b[0m\u001b[0;34m.\u001b[0m\u001b[0mdot\u001b[0m\u001b[0;34m(\u001b[0m\u001b[0mnetwork\u001b[0m\u001b[0;34m.\u001b[0m\u001b[0mlayers\u001b[0m\u001b[0;34m[\u001b[0m\u001b[0;36m0\u001b[0m\u001b[0;34m]\u001b[0m\u001b[0;34m.\u001b[0m\u001b[0mweights\u001b[0m\u001b[0;34m)\u001b[0m\u001b[0;34m\u001b[0m\u001b[0;34m\u001b[0m\u001b[0m\n\u001b[0m",
      "\u001b[0;31mNameError\u001b[0m: name 'train' is not defined"
     ]
    }
   ],
   "source": [
    "train[0].reshape(1, -1).dot(network.layers[0].weights)"
   ]
  },
  {
   "cell_type": "code",
   "execution_count": null,
   "metadata": {},
   "outputs": [],
   "source": [
    "d_round = lambda x: 1 if x >= 0.5 else 0\n",
    "predictions = [d_round(x[0][0]) for x in network.predict(X_test[:10])]\n",
    "actual = [y for y in y_test[:10].reshape(-1)]\n",
    "\n",
    "print(predictions)\n",
    "print(actual)"
   ]
  },
  {
   "cell_type": "markdown",
   "metadata": {},
   "source": [
    "## In Class:\n",
    "Determine the accuracy and loss of the model using our holdout testing dataset"
   ]
  },
  {
   "cell_type": "code",
   "execution_count": null,
   "metadata": {},
   "outputs": [],
   "source": [
    "# Space for work - this matched with Joel's answer\n",
    "raw_predictions = network.predict(x_test)\n",
    "predictions = [d_round(x[0][0]) for x in raw_predictions]\n",
    "actual = [y for y in y_test.reshape(-1)]\n",
    "count = 0\n",
    "for p,a in zip(predictions,actual):\n",
    "    if p == a:\n",
    "        count += 1\n",
    "print(\"accuracy: \" + str(100 * count/len(predictions)))"
   ]
  },
  {
   "cell_type": "code",
   "execution_count": null,
   "metadata": {},
   "outputs": [],
   "source": [
    "# My answer (def wrong)\n",
    "mse = 0\n",
    "for a,r in zip(actual,raw_predictions):\n",
    "    mse += (a-r)**2\n",
    "mse /= len(raw_predictions)\n",
    "print(\"loss: \" + str(mse[0][0]))"
   ]
  },
  {
   "cell_type": "code",
   "execution_count": null,
   "metadata": {},
   "outputs": [],
   "source": [
    "# Joel's answer\n",
    "preds = np.array(network.predict(X_test)).reshape(-1,1)\n",
    "network.loss(y_test, preds)"
   ]
  }
 ],
 "metadata": {
  "kernelspec": {
   "display_name": "Python 3 (ipykernel)",
   "language": "python",
   "name": "python3"
  },
  "language_info": {
   "codemirror_mode": {
    "name": "ipython",
    "version": 3
   },
   "file_extension": ".py",
   "mimetype": "text/x-python",
   "name": "python",
   "nbconvert_exporter": "python",
   "pygments_lexer": "ipython3",
   "version": "3.8.10"
  }
 },
 "nbformat": 4,
 "nbformat_minor": 4
}
