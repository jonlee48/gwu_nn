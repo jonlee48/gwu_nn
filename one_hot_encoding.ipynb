{
 "cells": [
  {
   "cell_type": "code",
   "execution_count": 1,
   "metadata": {},
   "outputs": [],
   "source": [
    "import numpy as np\n",
    "import matplotlib.pyplot as plt\n",
    "\n",
    "from sklearn.model_selection import train_test_split\n",
    "from tensorflow.keras.datasets import mnist\n",
    "from tensorflow.keras.utils import to_categorical\n",
    "from numpy import argmax\n"
   ]
  },
  {
   "cell_type": "code",
   "execution_count": 2,
   "metadata": {},
   "outputs": [
    {
     "name": "stdout",
     "output_type": "stream",
     "text": [
      "x_train shape: (200, 28, 28)\n",
      "y_train shape: [0. 0. 0. 0. 0. 1. 0. 0. 0. 0.]\n",
      "argmax: 5\n"
     ]
    }
   ],
   "source": [
    "# Load the MNIST data.\n",
    "(X_train, y_train), (X_test, y_test) = mnist.load_data()\n",
    "\n",
    "x_train_sample = X_train[:200]\n",
    "x_test_sample = X_train[:500]\n",
    "\n",
    "# Turning the outputs into one-hot encoded representations\n",
    "y_train_one = to_categorical(y_train)\n",
    "#y_train_one = np.array([encoding.reshape(1,-1) for encoding in y_train_one]) # reshape from (10,) to (1,10)\n",
    "\n",
    "y_test_one = to_categorical(y_test)\n",
    "#y_test_one = np.array([encoding.reshape(1,-1) for encoding in y_test_one]) # reshape from (10,) to (1,10)\n",
    "\n",
    "y_train_one_sample = y_train_one[:200]\n",
    "y_test_one_sample = y_train_one_sample[:500]\n",
    "\n",
    "\n",
    "print(\"x_train shape: \" + str(x_train_sample.shape))\n",
    "print(\"y_train shape: \" + str(y_train_one_sample[0]))\n",
    "print(\"argmax: \" + str(argmax(y_train_one_sample[0]))) # use argmax to get the corresponding digit"
   ]
  },
  {
   "cell_type": "code",
   "execution_count": 3,
   "metadata": {},
   "outputs": [
    {
     "name": "stdout",
     "output_type": "stream",
     "text": [
      "Model:\n",
      "Flatten - (28, 784)\n",
      "Dense - (784, 20)\n",
      "Dense - (20, 10)\n",
      "\n",
      "(10, 10)\n"
     ]
    },
    {
     "name": "stderr",
     "output_type": "stream",
     "text": [
      "/mnt/d/sync/gw/fall2021/csci6907_neural_networks/gwu_nn/gwu_nn/loss_functions.py:60: RuntimeWarning: invalid value encountered in log\n",
      "  softmax_cross_entropy_loss = -1.0 * y_true * np.log(y_pred) - (1.0 - y_true) * np.log(1 - y_pred)\n"
     ]
    },
    {
     "ename": "ValueError",
     "evalue": "shapes (20,1) and (10,10) not aligned: 1 (dim 1) != 10 (dim 0)",
     "output_type": "error",
     "traceback": [
      "\u001b[0;31m---------------------------------------------------------------------------\u001b[0m",
      "\u001b[0;31mValueError\u001b[0m                                Traceback (most recent call last)",
      "\u001b[0;32m/tmp/ipykernel_21963/1617060403.py\u001b[0m in \u001b[0;36m<module>\u001b[0;34m\u001b[0m\n\u001b[1;32m     15\u001b[0m \u001b[0mnetwork\u001b[0m\u001b[0;34m.\u001b[0m\u001b[0mcompile\u001b[0m\u001b[0;34m(\u001b[0m\u001b[0mloss\u001b[0m\u001b[0;34m=\u001b[0m\u001b[0;34m'multiclass_cross_entropy'\u001b[0m\u001b[0;34m,\u001b[0m \u001b[0mlr\u001b[0m\u001b[0;34m=\u001b[0m\u001b[0;36m0.001\u001b[0m\u001b[0;34m)\u001b[0m\u001b[0;34m\u001b[0m\u001b[0;34m\u001b[0m\u001b[0m\n\u001b[1;32m     16\u001b[0m \u001b[0mprint\u001b[0m\u001b[0;34m(\u001b[0m\u001b[0mnetwork\u001b[0m\u001b[0;34m)\u001b[0m\u001b[0;34m\u001b[0m\u001b[0;34m\u001b[0m\u001b[0m\n\u001b[0;32m---> 17\u001b[0;31m \u001b[0mnetwork\u001b[0m\u001b[0;34m.\u001b[0m\u001b[0mfit\u001b[0m\u001b[0;34m(\u001b[0m\u001b[0mx_train_sample\u001b[0m\u001b[0;34m,\u001b[0m \u001b[0my_train_one_sample\u001b[0m\u001b[0;34m,\u001b[0m \u001b[0mepochs\u001b[0m\u001b[0;34m=\u001b[0m\u001b[0;36m1\u001b[0m\u001b[0;34m)\u001b[0m\u001b[0;34m\u001b[0m\u001b[0;34m\u001b[0m\u001b[0m\n\u001b[0m",
      "\u001b[0;32m/mnt/d/sync/gw/fall2021/csci6907_neural_networks/gwu_nn/gwu_nn/gwu_network.py\u001b[0m in \u001b[0;36mfit\u001b[0;34m(self, x_train, y_train, epochs, batch_size)\u001b[0m\n\u001b[1;32m     72\u001b[0m \u001b[0;34m\u001b[0m\u001b[0m\n\u001b[1;32m     73\u001b[0m                 \u001b[0;32mfor\u001b[0m \u001b[0mlayer\u001b[0m \u001b[0;32min\u001b[0m \u001b[0mreversed\u001b[0m\u001b[0;34m(\u001b[0m\u001b[0mself\u001b[0m\u001b[0;34m.\u001b[0m\u001b[0mlayers\u001b[0m\u001b[0;34m)\u001b[0m\u001b[0;34m:\u001b[0m\u001b[0;34m\u001b[0m\u001b[0;34m\u001b[0m\u001b[0m\n\u001b[0;32m---> 74\u001b[0;31m                     \u001b[0merror\u001b[0m \u001b[0;34m=\u001b[0m \u001b[0mlayer\u001b[0m\u001b[0;34m.\u001b[0m\u001b[0mbackward_propagation\u001b[0m\u001b[0;34m(\u001b[0m\u001b[0merror\u001b[0m\u001b[0;34m,\u001b[0m \u001b[0mself\u001b[0m\u001b[0;34m.\u001b[0m\u001b[0mlearning_rate\u001b[0m\u001b[0;34m)\u001b[0m\u001b[0;34m\u001b[0m\u001b[0;34m\u001b[0m\u001b[0m\n\u001b[0m\u001b[1;32m     75\u001b[0m                     \u001b[0mprint\u001b[0m\u001b[0;34m(\u001b[0m\u001b[0merror\u001b[0m\u001b[0;34m.\u001b[0m\u001b[0mshape\u001b[0m\u001b[0;34m)\u001b[0m\u001b[0;34m\u001b[0m\u001b[0;34m\u001b[0m\u001b[0m\n\u001b[1;32m     76\u001b[0m \u001b[0;34m\u001b[0m\u001b[0m\n",
      "\u001b[0;32m/mnt/d/sync/gw/fall2021/csci6907_neural_networks/gwu_nn/gwu_nn/layers.py\u001b[0m in \u001b[0;36mwrapper\u001b[0;34m(*args)\u001b[0m\n\u001b[1;32m     28\u001b[0m         \u001b[0;32mif\u001b[0m \u001b[0margs\u001b[0m\u001b[0;34m[\u001b[0m\u001b[0;36m0\u001b[0m\u001b[0;34m]\u001b[0m\u001b[0;34m.\u001b[0m\u001b[0mactivation\u001b[0m\u001b[0;34m:\u001b[0m\u001b[0;34m\u001b[0m\u001b[0;34m\u001b[0m\u001b[0m\n\u001b[1;32m     29\u001b[0m             \u001b[0moutput_error\u001b[0m \u001b[0;34m=\u001b[0m \u001b[0margs\u001b[0m\u001b[0;34m[\u001b[0m\u001b[0;36m0\u001b[0m\u001b[0;34m]\u001b[0m\u001b[0;34m.\u001b[0m\u001b[0mactivation\u001b[0m\u001b[0;34m.\u001b[0m\u001b[0mbackward_propagation\u001b[0m\u001b[0;34m(\u001b[0m\u001b[0moutput_error\u001b[0m\u001b[0;34m,\u001b[0m \u001b[0mlearning_rate\u001b[0m\u001b[0;34m)\u001b[0m\u001b[0;34m\u001b[0m\u001b[0;34m\u001b[0m\u001b[0m\n\u001b[0;32m---> 30\u001b[0;31m         \u001b[0;32mreturn\u001b[0m \u001b[0mbackward_pass\u001b[0m\u001b[0;34m(\u001b[0m\u001b[0margs\u001b[0m\u001b[0;34m[\u001b[0m\u001b[0;36m0\u001b[0m\u001b[0;34m]\u001b[0m\u001b[0;34m,\u001b[0m \u001b[0moutput_error\u001b[0m\u001b[0;34m,\u001b[0m \u001b[0mlearning_rate\u001b[0m\u001b[0;34m)\u001b[0m\u001b[0;34m\u001b[0m\u001b[0;34m\u001b[0m\u001b[0m\n\u001b[0m\u001b[1;32m     31\u001b[0m     \u001b[0;32mreturn\u001b[0m \u001b[0mwrapper\u001b[0m\u001b[0;34m\u001b[0m\u001b[0;34m\u001b[0m\u001b[0m\n\u001b[1;32m     32\u001b[0m \u001b[0;34m\u001b[0m\u001b[0m\n",
      "\u001b[0;32m/mnt/d/sync/gw/fall2021/csci6907_neural_networks/gwu_nn/gwu_nn/layers.py\u001b[0m in \u001b[0;36mbackward_propagation\u001b[0;34m(self, output_error, learning_rate)\u001b[0m\n\u001b[1;32m    108\u001b[0m         \u001b[0minput_error\u001b[0m \u001b[0;34m=\u001b[0m \u001b[0mnp\u001b[0m\u001b[0;34m.\u001b[0m\u001b[0mdot\u001b[0m\u001b[0;34m(\u001b[0m\u001b[0moutput_error\u001b[0m\u001b[0;34m,\u001b[0m \u001b[0mself\u001b[0m\u001b[0;34m.\u001b[0m\u001b[0mweights\u001b[0m\u001b[0;34m.\u001b[0m\u001b[0mT\u001b[0m\u001b[0;34m)\u001b[0m\u001b[0;34m\u001b[0m\u001b[0;34m\u001b[0m\u001b[0m\n\u001b[1;32m    109\u001b[0m \u001b[0;34m\u001b[0m\u001b[0m\n\u001b[0;32m--> 110\u001b[0;31m         \u001b[0mweights_error\u001b[0m \u001b[0;34m=\u001b[0m \u001b[0mnp\u001b[0m\u001b[0;34m.\u001b[0m\u001b[0mdot\u001b[0m\u001b[0;34m(\u001b[0m\u001b[0mself\u001b[0m\u001b[0;34m.\u001b[0m\u001b[0minput\u001b[0m\u001b[0;34m.\u001b[0m\u001b[0mT\u001b[0m\u001b[0;34m,\u001b[0m \u001b[0moutput_error\u001b[0m\u001b[0;34m)\u001b[0m\u001b[0;34m\u001b[0m\u001b[0;34m\u001b[0m\u001b[0m\n\u001b[0m\u001b[1;32m    111\u001b[0m \u001b[0;34m\u001b[0m\u001b[0m\n\u001b[1;32m    112\u001b[0m         \u001b[0mself\u001b[0m\u001b[0;34m.\u001b[0m\u001b[0mweights\u001b[0m \u001b[0;34m-=\u001b[0m \u001b[0mlearning_rate\u001b[0m \u001b[0;34m*\u001b[0m \u001b[0mweights_error\u001b[0m\u001b[0;34m\u001b[0m\u001b[0;34m\u001b[0m\u001b[0m\n",
      "\u001b[0;32m<__array_function__ internals>\u001b[0m in \u001b[0;36mdot\u001b[0;34m(*args, **kwargs)\u001b[0m\n",
      "\u001b[0;31mValueError\u001b[0m: shapes (20,1) and (10,10) not aligned: 1 (dim 1) != 10 (dim 0)"
     ]
    }
   ],
   "source": [
    "#### FLAT MODEL ####\n",
    "\n",
    "np.random.seed(1)\n",
    "np.random.RandomState(1)\n",
    "\n",
    "from gwu_nn.gwu_network import GWUNetwork\n",
    "from gwu_nn.layers import Dense, Convolutional, Flatten\n",
    "\n",
    "network = GWUNetwork()\n",
    "network.add(Flatten(28,input_channels=1))\n",
    "network.add(Dense(20, activation='relu'))\n",
    "network.add(Dense(10)) # no activation, do softmax afterward\n",
    "\n",
    "# Finally to complete our model we need to compile it. This defines our loss function and learning_rate\n",
    "network.compile(loss='multiclass_cross_entropy', lr=0.001)\n",
    "print(network)\n",
    "network.fit(x_train_sample, y_train_one_sample, epochs=1)"
   ]
  },
  {
   "cell_type": "code",
   "execution_count": 11,
   "metadata": {},
   "outputs": [
    {
     "data": {
      "text/plain": [
       "array([[[nan, nan, nan, ..., nan, nan, nan]],\n",
       "\n",
       "       [[nan, nan, nan, ..., nan, nan, nan]],\n",
       "\n",
       "       [[nan, nan, nan, ..., nan, nan, nan]],\n",
       "\n",
       "       ...,\n",
       "\n",
       "       [[nan, nan, nan, ..., nan, nan, nan]],\n",
       "\n",
       "       [[nan, nan, nan, ..., nan, nan, nan]],\n",
       "\n",
       "       [[nan, nan, nan, ..., nan, nan, nan]]])"
      ]
     },
     "execution_count": 11,
     "metadata": {},
     "output_type": "execute_result"
    }
   ],
   "source": [
    "# Predict using the test set.\n",
    "raw_predictions = network.predict(x_test_sample)\n",
    "\n",
    "'''\n",
    "predictions = [round(x[0][0]) for x in raw_predictions]\n",
    "actual = [y for y in y_test_sample]\n",
    "count = 0\n",
    "for p,a in zip(predictions,actual):\n",
    "    if p == a:\n",
    "        count += 1\n",
    "print(\"accuracy: \" + str(100 * count/len(predictions)))\n",
    "\n",
    "# show figures where it messed up\n",
    "'''\n",
    "np.clip(raw_predictions,0.01,0.99)"
   ]
  },
  {
   "cell_type": "code",
   "execution_count": 5,
   "metadata": {},
   "outputs": [
    {
     "name": "stdout",
     "output_type": "stream",
     "text": [
      "Model:\n",
      "Convolutional - (28, 28)\n",
      "MaxPool - (28, 14)\n",
      "Flatten - (14, 196)\n",
      "Dense - (196, 40)\n",
      "Dense - (40, 1)\n",
      "\n"
     ]
    }
   ],
   "source": [
    "#### CNN MODEL ####\n",
    "\n",
    "np.random.seed(1)\n",
    "np.random.RandomState(1)\n",
    "\n",
    "from gwu_nn.gwu_network import GWUNetwork\n",
    "from gwu_nn.layers import Dense, Convolutional, Flatten, MaxPool\n",
    "\n",
    "network = GWUNetwork()\n",
    "network.add(Convolutional(input_size=28, input_channels=1, kernel_size=3, num_kernels=1, activation='relu'))\n",
    "network.add(MaxPool(28,2)) # works better without pooling\n",
    "network.add(Flatten(14,input_channels=1)) # input size = 28\n",
    "network.add(Dense(40, activation='relu'))\n",
    "network.add(Dense(1, add_bias=False, activation='sigmoid'))\n",
    "\n",
    "# Finally to complete our model we need to compile it. This defines our loss function and learning_rate\n",
    "network.compile(loss='log_loss', lr=0.001)\n",
    "print(network)"
   ]
  },
  {
   "cell_type": "code",
   "execution_count": 6,
   "metadata": {},
   "outputs": [
    {
     "name": "stdout",
     "output_type": "stream",
     "text": [
      "epoch 1/1   error=nan\n"
     ]
    }
   ],
   "source": [
    "network.fit(x_train_sample, y_train_sample, epochs=1)"
   ]
  },
  {
   "cell_type": "code",
   "execution_count": 7,
   "metadata": {},
   "outputs": [
    {
     "name": "stdout",
     "output_type": "stream",
     "text": [
      "accuracy: 89.0\n"
     ]
    }
   ],
   "source": [
    "# Predict using the test set.\n",
    "raw_predictions = network.predict(x_test_sample)\n",
    "\n",
    "# calculate accuracy and show incorrect classifications\n",
    "predictions = [round(x[0][0]) for x in raw_predictions]\n",
    "count = 0\n",
    "for p,a,i in zip(predictions,y_test_sample,i_test_sample):\n",
    "    if p == a:\n",
    "        count += 1\n",
    "    else:\n",
    "        pass\n",
    "        #print(\"Prediction: \" + str(p))\n",
    "        #ax = plt.subplot()\n",
    "        #plt.imshow(X_test[i], cmap='gray')\n",
    "        #plt.show()\n",
    "        \n",
    "print(\"accuracy: \" + str(100 * count/len(predictions)))\n",
    "#print(predictions)\n",
    "#print(y_test_sample)"
   ]
  },
  {
   "cell_type": "code",
   "execution_count": 8,
   "metadata": {},
   "outputs": [
    {
     "data": {
      "text/plain": [
       "<matplotlib.image.AxesImage at 0x7f1c236e0520>"
      ]
     },
     "execution_count": 8,
     "metadata": {},
     "output_type": "execute_result"
    },
    {
     "data": {
      "image/png": "[encoded data removed]",
      "text/plain": [
       "<Figure size 432x288 with 1 Axes>"
      ]
     },
     "metadata": {
      "needs_background": "light"
     },
     "output_type": "display_data"
    }
   ],
   "source": [
    "# print out the kernel weights \n",
    "kernel = network.layers[0].kernels.reshape(3,3)\n",
    "\n",
    "plt.imshow(kernel, cmap='gray')"
   ]
  },
  {
   "cell_type": "code",
   "execution_count": null,
   "metadata": {},
   "outputs": [],
   "source": []
  }
 ],
 "metadata": {
  "kernelspec": {
   "display_name": "Python 3 (ipykernel)",
   "language": "python",
   "name": "python3"
  },
  "language_info": {
   "codemirror_mode": {
    "name": "ipython",
    "version": 3
   },
   "file_extension": ".py",
   "mimetype": "text/x-python",
   "name": "python",
   "nbconvert_exporter": "python",
   "pygments_lexer": "ipython3",
   "version": "3.8.10"
  }
 },
 "nbformat": 4,
 "nbformat_minor": 4
}
