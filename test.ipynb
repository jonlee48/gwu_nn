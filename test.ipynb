{
 "cells": [
  {
   "cell_type": "code",
   "execution_count": 1,
   "id": "93ecdedb-4b89-4065-a125-074a0ab296db",
   "metadata": {},
   "outputs": [],
   "source": [
    "import numpy as np\n",
    "\n",
    "np.random.seed(1)"
   ]
  },
  {
   "cell_type": "code",
   "execution_count": 2,
   "id": "cdf8c9c5-3010-4714-acd8-186eef70482f",
   "metadata": {},
   "outputs": [
    {
     "data": {
      "text/plain": [
       "array([[[2, 2, 1, 1],\n",
       "        [2, 2, 2, 2],\n",
       "        [2, 1, 1, 2]],\n",
       "\n",
       "       [[1, 2, 2, 1],\n",
       "        [1, 2, 1, 1],\n",
       "        [1, 2, 1, 1]]])"
      ]
     },
     "execution_count": 2,
     "metadata": {},
     "output_type": "execute_result"
    }
   ],
   "source": [
    "# channels, width, height\n",
    "_input_img = np.random.randint(low=1, high=3, size=(2,3,4))#np.random.rand(2,3,4)\n",
    "_input_size = _input_img.shape\n",
    "\n",
    "#input_img[x][y][z] += 100\n",
    "_input_img"
   ]
  },
  {
   "cell_type": "code",
   "execution_count": 3,
   "id": "3ca0fe04-a83b-433d-b3f2-cb565a5199ec",
   "metadata": {},
   "outputs": [
    {
     "data": {
      "text/plain": [
       "array([[[0, 2, 0],\n",
       "        [1, 2, 2],\n",
       "        [0, 1, 1]],\n",
       "\n",
       "       [[2, 0, 2],\n",
       "        [1, 1, 1],\n",
       "        [1, 2, 1]],\n",
       "\n",
       "       [[1, 0, 0],\n",
       "        [1, 0, 0],\n",
       "        [1, 2, 1]]])"
      ]
     },
     "execution_count": 3,
     "metadata": {},
     "output_type": "execute_result"
    }
   ],
   "source": [
    "_num_kernels = 3\n",
    "_kernel_size = 3\n",
    "_kernels = np.random.randint(low=0, high=3, size=(_num_kernels,_kernel_size,_kernel_size))#np.random.rand(2,3,4)\n",
    "_kernels"
   ]
  },
  {
   "cell_type": "code",
   "execution_count": 4,
   "id": "f1b9b56b-6698-4a22-87b4-78f77da84202",
   "metadata": {},
   "outputs": [],
   "source": [
    "def apply_1d_padding(input_img, kernel_size):\n",
    "    pad = kernel_size//2\n",
    "    return np.concatenate([np.zeros(pad), input_img, np.zeros(pad)])\n",
    "\n",
    "def apply_2d_padding(input_img, kernel_size):\n",
    "    padded = []\n",
    "    for channel in input_img:\n",
    "        pad_side = np.stack([apply_1d_padding(row, kernel_size) for row in channel])\n",
    "        width = pad_side.shape[1]\n",
    "        pad_full = np.vstack([np.zeros(width), pad_side,np.zeros(width)])\n",
    "        padded.append(pad_full)\n",
    "    return np.stack(padded)\n",
    "\n",
    "#_input_pad = apply_2d_padding(_input_img, _kernel_size)\n",
    "#_input_pad"
   ]
  },
  {
   "cell_type": "code",
   "execution_count": 5,
   "id": "2cc421de-aeb6-41b6-82f8-28201f0bb7d5",
   "metadata": {},
   "outputs": [
    {
     "data": {
      "text/plain": [
       "array([[[21., 24., 20., 10.],\n",
       "        [26., 30., 27., 16.],\n",
       "        [18., 21., 19., 14.]],\n",
       "\n",
       "       [[17., 24., 22., 14.],\n",
       "        [24., 33., 32., 20.],\n",
       "        [14., 20., 22., 11.]],\n",
       "\n",
       "       [[10., 17., 17., 12.],\n",
       "        [ 9., 17., 18., 14.],\n",
       "        [ 0.,  6.,  7.,  5.]]])"
      ]
     },
     "execution_count": 5,
     "metadata": {},
     "output_type": "execute_result"
    }
   ],
   "source": [
    "# Forward pass\n",
    "def forward_propagation(input_img, kernels, num_kernels, kernel_size, input_size):\n",
    "    output = np.zeros(shape=(num_kernels, input_size[1], input_size[2]))\n",
    "    thing = \"hello\"\n",
    "    input_pad = apply_2d_padding(input_img, kernel_size)\n",
    "\n",
    "    for i in range(input_img.shape[0]): # input channels\n",
    "        for k in range(num_kernels): # output channels\n",
    "            for i_w in range(input_img.shape[1]): # img width\n",
    "                for i_h in range(input_img.shape[2]): # img height\n",
    "                    for k_w in range(kernel_size):\n",
    "                        for k_h in range(kernel_size):\n",
    "                            output[k][i_w][i_h] += kernels[k][k_w][k_h] * input_pad[i][i_w+k_w][i_h+k_h]\n",
    "    return output\n",
    "\n",
    "_output = forward_propagation(_input_img, _kernels, _num_kernels, _kernel_size, _input_size)\n",
    "_output"
   ]
  },
  {
   "cell_type": "code",
   "execution_count": 29,
   "id": "1972fb28-c8c3-472e-8b74-ea3c96c3e573",
   "metadata": {},
   "outputs": [],
   "source": [
    "# Backward Pass\n",
    "def backward_propagation_input(input_img, kernels, num_kernels, kernel_size, output, output_grad, learning_rate):\n",
    "    #output_grad = np.ones(shape=(output.shape))\n",
    "    output_grad_pad = apply_2d_padding(output_grad, kernel_size)\n",
    "\n",
    "    input_grad = np.zeros_like(input_img)    \n",
    "\n",
    "    for i in range(input_img.shape[0]): # input channels\n",
    "        for k in range(num_kernels): # output channels\n",
    "            for i_w in range(input_img.shape[1]): # img width\n",
    "                for i_h in range(input_img.shape[2]): # img height\n",
    "                    for k_w in range(kernel_size):\n",
    "                        for k_h in range(kernel_size):\n",
    "                            input_grad[i][i_w][i_h] += output_grad_pad[k][i_w+kernel_size-k_w-1][i_h+kernel_size-k_h-1] * kernels[k][k_w][k_h] # or i\n",
    "\n",
    "    return input_grad\n",
    "\n",
    "def backward_propagation_kernels(input_img, kernels, num_kernels, kernel_size, output, output_grad, learning_rate):\n",
    "    # kernel gradient\n",
    "    kernels_grad = np.zeros_like(kernels)\n",
    "\n",
    "    input_pad = apply_2d_padding(input_img, kernel_size)\n",
    "    \n",
    "    output_grad = np.ones(shape=(output.shape))\n",
    "\n",
    "    for i in range(input_img.shape[0]): # input channels\n",
    "        for k in range(num_kernels): # output channels\n",
    "            for i_w in range(input_img.shape[1]): # img width\n",
    "                for i_h in range(input_img.shape[2]): # img height\n",
    "                    for k_w in range(kernel_size):\n",
    "                        for k_h in range(kernel_size):\n",
    "                            kernels_grad[k][k_w][k_h] += input_pad[i][i_w+k_w][i_h+k_h] * output_grad[k][k_w][k_h]\n",
    "\n",
    "    return kernels_grad\n",
    "\n",
    "#backward_propagation_input(_output, _output, 0.001)"
   ]
  },
  {
   "cell_type": "code",
   "execution_count": 24,
   "id": "c252b21d-b79f-4065-b39b-7c694de520f6",
   "metadata": {},
   "outputs": [
    {
     "name": "stdout",
     "output_type": "stream",
     "text": [
      "(1, 1, 2)\n",
      "26.0\n"
     ]
    }
   ],
   "source": [
    "# Test gradients\n",
    "_input_img2 = _input_img.copy()\n",
    "x = np.random.randint(_input_img.shape[0])\n",
    "y = np.random.randint(_input_img.shape[1])\n",
    "z = np.random.randint(_input_img.shape[2])\n",
    "print((x,y,z))\n",
    "_input_img2[x][y][z] += 1\n",
    "#print(_input_img)\n",
    "#print(_input_img2)\n",
    "\n",
    "_output = forward_propagation(_input_img, _kernels, _num_kernels, _kernel_size, _input_size)\n",
    "_output2 = forward_propagation(_input_img2, _kernels, _num_kernels, _kernel_size, _input_size)\n",
    "\n",
    "#print(_output - _output2)\n",
    "s1 = _output.sum()\n",
    "s2 = _output2.sum()\n",
    "print(s2-s1)"
   ]
  },
  {
   "cell_type": "code",
   "execution_count": null,
   "id": "a495d7b5-d6b6-41fc-a7fb-4933960db504",
   "metadata": {},
   "outputs": [],
   "source": [
    "_output_error = np.ones_like(_output)\n",
    "\n",
    "_input_grad = backward_propagation_input(_input_img, _kernels, _num_kernels, _kernel_size, _output, _output_error, 0.001)\n",
    "_input_grad[x][y][z]"
   ]
  },
  {
   "cell_type": "code",
   "execution_count": 32,
   "id": "9eb3dd68-2b65-4b0d-be5a-79fa4946f2bd",
   "metadata": {},
   "outputs": [
    {
     "name": "stdout",
     "output_type": "stream",
     "text": [
      "28.0\n"
     ]
    }
   ],
   "source": [
    "_kernels2 = _kernels.copy()\n",
    "x = np.random.randint(_kernels.shape[0])\n",
    "y = np.random.randint(_kernels.shape[1])\n",
    "z = np.random.randint(_kernels.shape[2])\n",
    "_kernels2[x][y][z] += 1\n",
    "\n",
    "_output = forward_propagation(_input_img, _kernels, _num_kernels, _kernel_size, _input_size)\n",
    "_output2 = forward_propagation(_input_img, _kernels2, _num_kernels, _kernel_size, _input_size)\n",
    "s1 = _output.sum()\n",
    "s2 = _output2.sum()\n",
    "print(s2-s1)"
   ]
  },
  {
   "cell_type": "code",
   "execution_count": 33,
   "id": "a5eadf80-f760-4840-b6c6-dc238113234b",
   "metadata": {},
   "outputs": [
    {
     "data": {
      "text/plain": [
       "28"
      ]
     },
     "execution_count": 33,
     "metadata": {},
     "output_type": "execute_result"
    }
   ],
   "source": [
    "_kernels_grad = backward_propagation_kernels(_input_img, _kernels, _num_kernels, _kernel_size, _output, _output_error, 0.001)\n",
    "_kernels_grad[x][y][z]"
   ]
  },
  {
   "cell_type": "code",
   "execution_count": null,
   "id": "f6b48cd0-f85d-4aab-810f-cc1bca01cafe",
   "metadata": {},
   "outputs": [],
   "source": []
  }
 ],
 "metadata": {
  "kernelspec": {
   "display_name": "Python 3 (ipykernel)",
   "language": "python",
   "name": "python3"
  },
  "language_info": {
   "codemirror_mode": {
    "name": "ipython",
    "version": 3
   },
   "file_extension": ".py",
   "mimetype": "text/x-python",
   "name": "python",
   "nbconvert_exporter": "python",
   "pygments_lexer": "ipython3",
   "version": "3.8.10"
  }
 },
 "nbformat": 4,
 "nbformat_minor": 5
}
