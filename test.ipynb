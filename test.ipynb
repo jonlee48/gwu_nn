{
 "cells": [
  {
   "cell_type": "code",
   "execution_count": 22,
   "id": "93ecdedb-4b89-4065-a125-074a0ab296db",
   "metadata": {},
   "outputs": [],
   "source": [
    "import numpy as np\n",
    "\n",
    "np.random.seed(1)"
   ]
  },
  {
   "cell_type": "code",
   "execution_count": 23,
   "id": "cdf8c9c5-3010-4714-acd8-186eef70482f",
   "metadata": {},
   "outputs": [
    {
     "data": {
      "text/plain": [
       "array([[[2, 2, 1, 1],\n",
       "        [2, 2, 2, 2],\n",
       "        [2, 1, 1, 2]],\n",
       "\n",
       "       [[1, 2, 2, 1],\n",
       "        [1, 2, 1, 1],\n",
       "        [1, 2, 1, 1]]])"
      ]
     },
     "execution_count": 23,
     "metadata": {},
     "output_type": "execute_result"
    }
   ],
   "source": [
    "# channels, width, height\n",
    "input_img = np.random.randint(low=1, high=3, size=(2,3,4))#np.random.rand(2,3,4)\n",
    "input_size = input_img.shape\n",
    "input_img"
   ]
  },
  {
   "cell_type": "code",
   "execution_count": 24,
   "id": "3ca0fe04-a83b-433d-b3f2-cb565a5199ec",
   "metadata": {},
   "outputs": [
    {
     "data": {
      "text/plain": [
       "array([[[0, 2, 0],\n",
       "        [1, 2, 2],\n",
       "        [0, 1, 1]],\n",
       "\n",
       "       [[2, 0, 2],\n",
       "        [1, 1, 1],\n",
       "        [1, 2, 1]],\n",
       "\n",
       "       [[1, 0, 0],\n",
       "        [1, 0, 0],\n",
       "        [1, 2, 1]]])"
      ]
     },
     "execution_count": 24,
     "metadata": {},
     "output_type": "execute_result"
    }
   ],
   "source": [
    "num_kernels = 3\n",
    "kernel_size = 3\n",
    "kernels = np.random.randint(low=0, high=3, size=(num_kernels,kernel_size,kernel_size))#np.random.rand(2,3,4)\n",
    "kernels"
   ]
  },
  {
   "cell_type": "code",
   "execution_count": 25,
   "id": "f1b9b56b-6698-4a22-87b4-78f77da84202",
   "metadata": {},
   "outputs": [],
   "source": [
    "def apply_1d_padding(input_img, kernel_size):\n",
    "    pad = kernel_size//2\n",
    "    return np.concatenate([np.zeros(pad), input_img, np.zeros(pad)])\n",
    "\n",
    "def apply_2d_padding(input_img, kernel_size):\n",
    "    pad_side = np.stack([apply_1d_padding(row, kernel_size) for row in input_img])\n",
    "    width = pad_side.shape[1]\n",
    "    pad_tops = np.vstack([np.zeros(width), pad_side,np.zeros(width)])\n",
    "    return pad_tops\n",
    "\n",
    "#\n",
    "input_pad = np.stack([apply_2d_padding(channel, kernel_size) for channel in input_img])"
   ]
  },
  {
   "cell_type": "code",
   "execution_count": 27,
   "id": "2cc421de-aeb6-41b6-82f8-28201f0bb7d5",
   "metadata": {},
   "outputs": [
    {
     "data": {
      "text/plain": [
       "array([[[21., 24., 20., 10.],\n",
       "        [26., 30., 27., 16.],\n",
       "        [18., 21., 19., 14.]],\n",
       "\n",
       "       [[17., 24., 22., 14.],\n",
       "        [24., 33., 32., 20.],\n",
       "        [14., 20., 22., 11.]],\n",
       "\n",
       "       [[10., 17., 17., 12.],\n",
       "        [ 9., 17., 18., 14.],\n",
       "        [ 0.,  6.,  7.,  5.]]])"
      ]
     },
     "execution_count": 27,
     "metadata": {},
     "output_type": "execute_result"
    }
   ],
   "source": [
    "# Forward pass\n",
    "output = np.zeros(shape=(num_kernels, input_size[1], input_size[2]))\n",
    "\n",
    "for i in range(input_img.shape[0]):\n",
    "    for k in range(num_kernels): #output channels\n",
    "        for i_w in range(input_img.shape[1]): #img width\n",
    "            for i_h in range(input_img.shape[2]): # img height\n",
    "                for k_w in range(kernel_size):\n",
    "                    for k_h in range(kernel_size):\n",
    "                        output[k][i_w][i_h] += kernels[k][k_w][k_h] * input_pad[i][i_w+k_w][i_h+k_h]\n",
    "\n",
    "output"
   ]
  },
  {
   "cell_type": "code",
   "execution_count": null,
   "id": "1972fb28-c8c3-472e-8b74-ea3c96c3e573",
   "metadata": {},
   "outputs": [],
   "source": [
    "# Backward Pass\n"
   ]
  }
 ],
 "metadata": {
  "kernelspec": {
   "display_name": "Python 3 (ipykernel)",
   "language": "python",
   "name": "python3"
  },
  "language_info": {
   "codemirror_mode": {
    "name": "ipython",
    "version": 3
   },
   "file_extension": ".py",
   "mimetype": "text/x-python",
   "name": "python",
   "nbconvert_exporter": "python",
   "pygments_lexer": "ipython3",
   "version": "3.8.10"
  }
 },
 "nbformat": 4,
 "nbformat_minor": 5
}
