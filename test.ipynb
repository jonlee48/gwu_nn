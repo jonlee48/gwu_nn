{
 "cells": [
  {
   "cell_type": "code",
   "execution_count": 1,
   "id": "93ecdedb-4b89-4065-a125-074a0ab296db",
   "metadata": {},
   "outputs": [
    {
     "name": "stdout",
     "output_type": "stream",
     "text": [
      "(60000, 28, 28)\n"
     ]
    },
    {
     "data": {
      "text/plain": [
       "(60000, 28, 28, 1)"
      ]
     },
     "execution_count": 1,
     "metadata": {},
     "output_type": "execute_result"
    }
   ],
   "source": [
    "import numpy as np\n",
    "import matplotlib.pyplot as plt\n",
    "from tensorflow.keras.datasets import mnist\n",
    "np.random.seed(1)\n",
    "\n",
    "(x_train, y_train), (x_test, y_test) = mnist.load_data()\n",
    "print(x_train.shape)\n",
    "x_train = x_train.reshape(x_train.shape[0], 28, 28, 1).astype('float32')\n",
    "x_train.shape"
   ]
  },
  {
   "cell_type": "code",
   "execution_count": 2,
   "id": "cdf8c9c5-3010-4714-acd8-186eef70482f",
   "metadata": {},
   "outputs": [
    {
     "data": {
      "text/plain": [
       "<matplotlib.image.AxesImage at 0x7f1fe5053730>"
      ]
     },
     "execution_count": 2,
     "metadata": {},
     "output_type": "execute_result"
    },
    {
     "data": {
      "image/png": "[encoded data removed]",
      "text/plain": [
       "<Figure size 432x288 with 1 Axes>"
      ]
     },
     "metadata": {
      "needs_background": "light"
     },
     "output_type": "display_data"
    }
   ],
   "source": [
    "# channels, width, height\n",
    "_input_img = x_train[0] #np.random.rand(28,28,3)\n",
    "_input_size = _input_img.shape\n",
    "\n",
    "plt.imshow(_input_img, cmap='gray')"
   ]
  },
  {
   "cell_type": "code",
   "execution_count": 3,
   "id": "3ca0fe04-a83b-433d-b3f2-cb565a5199ec",
   "metadata": {},
   "outputs": [
    {
     "data": {
      "text/plain": [
       "<matplotlib.image.AxesImage at 0x7f1fe2f4e0a0>"
      ]
     },
     "execution_count": 3,
     "metadata": {},
     "output_type": "execute_result"
    },
    {
     "data": {
      "image/png": "[encoded data removed]",
      "text/plain": [
       "<Figure size 432x288 with 1 Axes>"
      ]
     },
     "metadata": {
      "needs_background": "light"
     },
     "output_type": "display_data"
    }
   ],
   "source": [
    "_num_kernels = 3\n",
    "_kernel_size = 3\n",
    "_kernels = np.random.rand(_kernel_size,_kernel_size,_num_kernels)\n",
    "plt.imshow(_kernels, cmap='gray')"
   ]
  },
  {
   "cell_type": "code",
   "execution_count": 4,
   "id": "b41171c7-89cc-491c-aed9-ad15b764c444",
   "metadata": {},
   "outputs": [
    {
     "data": {
      "text/plain": [
       "(32, 32, 1)"
      ]
     },
     "execution_count": 4,
     "metadata": {},
     "output_type": "execute_result"
    },
    {
     "data": {
      "image/png": "[encoded data removed]",
      "text/plain": [
       "<Figure size 432x288 with 1 Axes>"
      ]
     },
     "metadata": {
      "needs_background": "light"
     },
     "output_type": "display_data"
    }
   ],
   "source": [
    "def apply_1d_padding(row, kernel_size):\n",
    "    padding = kernel_size//2\n",
    "    channels = row.shape[-1]\n",
    "    return np.concatenate([np.zeros(shape=(padding,channels)), row, np.zeros(shape=(padding,channels))])\n",
    "\n",
    "def apply_2d_padding(input_img, kernel_size):\n",
    "    width = input_img.shape[1]\n",
    "    channels = input_img.shape[2]\n",
    "    padding = kernel_size//2\n",
    "    \n",
    "    pad_sides = np.stack([apply_1d_padding(row,kernel_size) for row in input_img])\n",
    "    zeros = np.zeros(shape=(padding,width+2*padding,channels))\n",
    "    pad_full = np.vstack([zeros, pad_sides, zeros])\n",
    "    return pad_full\n",
    "\n",
    "_padded_img = apply_2d_padding(_input_img, 5)\n",
    "plt.imshow(_padded_img, cmap='gray')\n",
    "_padded_img.shape"
   ]
  },
  {
   "cell_type": "code",
   "execution_count": 5,
   "id": "2cc421de-aeb6-41b6-82f8-28201f0bb7d5",
   "metadata": {},
   "outputs": [
    {
     "name": "stderr",
     "output_type": "stream",
     "text": [
      "Clipping input data to the valid range for imshow with RGB data ([0..1] for floats or [0..255] for integers).\n"
     ]
    },
    {
     "data": {
      "text/plain": [
       "(28, 28, 3)"
      ]
     },
     "execution_count": 5,
     "metadata": {},
     "output_type": "execute_result"
    },
    {
     "data": {
      "image/png": "[encoded data removed]",
      "text/plain": [
       "<Figure size 432x288 with 1 Axes>"
      ]
     },
     "metadata": {
      "needs_background": "light"
     },
     "output_type": "display_data"
    }
   ],
   "source": [
    "# Forward pass\n",
    "def forward_propagation(input_img, kernels, num_kernels, kernel_size, input_size):\n",
    "    output = np.zeros(shape=(input_size[0], input_size[1], num_kernels))\n",
    "    input_pad = apply_2d_padding(input_img, kernel_size)\n",
    "\n",
    "    for i_w in range(input_img.shape[0]): # img width\n",
    "        for i_h in range(input_img.shape[1]): # img height\n",
    "            for k_w in range(kernel_size):\n",
    "                for k_h in range(kernel_size):\n",
    "                    for i in range(input_img.shape[2]): # input channels\n",
    "                        for k in range(num_kernels): # output channels\n",
    "                            output[i_w][i_h][k] += kernels[k_w][k_h][k] * input_pad[i_w+k_w][i_h+k_h][i]\n",
    "                            \n",
    "    return output\n",
    "\n",
    "_output = forward_propagation(_input_img, _kernels, _num_kernels, _kernel_size, _input_size)\n",
    "plt.imshow(_output, cmap='gray')\n",
    "_output.shape"
   ]
  },
  {
   "cell_type": "code",
   "execution_count": 12,
   "id": "1972fb28-c8c3-472e-8b74-ea3c96c3e573",
   "metadata": {},
   "outputs": [],
   "source": [
    "# Backward Pass\n",
    "def backward_propagation_input(input_img, kernels, num_kernels, kernel_size, output, output_grad, learning_rate):\n",
    "    output_grad_pad = apply_2d_padding(output_grad, kernel_size)\n",
    "\n",
    "    input_grad = np.zeros_like(input_img)    \n",
    "    for i_w in range(input_img.shape[0]): # img width\n",
    "        for i_h in range(input_img.shape[1]): # img height\n",
    "            for k_w in range(kernel_size):\n",
    "                for k_h in range(kernel_size):\n",
    "                    for i in range(input_img.shape[2]): # input channels\n",
    "                        for k in range(num_kernels): # output channels\n",
    "                            input_grad[i_w][i_h][i] += output_grad_pad[i_w+kernel_size-k_w-1][i_h+kernel_size-k_h-1][k] * kernels[k_w][k_h][k]\n",
    "\n",
    "    return input_grad\n",
    "\n",
    "def backward_propagation_kernels(input_img, kernels, num_kernels, kernel_size, output, output_grad, learning_rate):\n",
    "    # kernel gradient\n",
    "    kernels_grad = np.zeros_like(kernels)\n",
    "\n",
    "    input_pad = apply_2d_padding(input_img, kernel_size)\n",
    "    \n",
    "    for i_w in range(input_img.shape[0]): # img width\n",
    "        for i_h in range(input_img.shape[1]): # img height\n",
    "            for k_w in range(kernel_size):\n",
    "                for k_h in range(kernel_size):\n",
    "                    for i in range(input_img.shape[2]): # input channels\n",
    "                        for k in range(num_kernels): # output channels\n",
    "                            kernels_grad[k_w][k_h][k] += input_pad[i_w+k_w][i_h+k_h][i] * output_grad[k_w][k_h][k]\n",
    "\n",
    "    return kernels_grad\n",
    "\n",
    "#backward_propagation_input(_output, _output, 0.001)"
   ]
  },
  {
   "cell_type": "code",
   "execution_count": 13,
   "id": "c252b21d-b79f-4065-b39b-7c694de520f6",
   "metadata": {},
   "outputs": [
    {
     "name": "stdout",
     "output_type": "stream",
     "text": [
      "(25, 8, 0)\n",
      "11.97640790604055\n"
     ]
    }
   ],
   "source": [
    "# Test gradients\n",
    "_input_img2 = _input_img.copy()\n",
    "x = np.random.randint(_input_img.shape[0])\n",
    "y = np.random.randint(_input_img.shape[1])\n",
    "z = np.random.randint(_input_img.shape[2])\n",
    "print((x,y,z))\n",
    "_input_img2[x][y][z] += 1\n",
    "#print(_input_img)\n",
    "#print(_input_img2)\n",
    "\n",
    "_output = forward_propagation(_input_img, _kernels, _num_kernels, _kernel_size, _input_size)\n",
    "_output2 = forward_propagation(_input_img2, _kernels, _num_kernels, _kernel_size, _input_size)\n",
    "\n",
    "#print(_output - _output2)\n",
    "s1 = _output.sum()\n",
    "s2 = _output2.sum()\n",
    "print(s2-s1)"
   ]
  },
  {
   "cell_type": "code",
   "execution_count": 14,
   "id": "a495d7b5-d6b6-41fc-a7fb-4933960db504",
   "metadata": {},
   "outputs": [
    {
     "data": {
      "text/plain": [
       "11.976408"
      ]
     },
     "execution_count": 14,
     "metadata": {},
     "output_type": "execute_result"
    }
   ],
   "source": [
    "_output_error = np.ones_like(_output)\n",
    "\n",
    "_input_grad = backward_propagation_input(_input_img, _kernels, _num_kernels, _kernel_size, _output, _output_error, 0.001)\n",
    "_input_grad[x][y][z]"
   ]
  },
  {
   "cell_type": "code",
   "execution_count": 15,
   "id": "9eb3dd68-2b65-4b0d-be5a-79fa4946f2bd",
   "metadata": {},
   "outputs": [
    {
     "name": "stdout",
     "output_type": "stream",
     "text": [
      "27525.0\n"
     ]
    }
   ],
   "source": [
    "_kernels2 = _kernels.copy()\n",
    "x = np.random.randint(_kernels.shape[0])\n",
    "y = np.random.randint(_kernels.shape[1])\n",
    "z = np.random.randint(_kernels.shape[2])\n",
    "_kernels2[x][y][z] += 1\n",
    "\n",
    "_output = forward_propagation(_input_img, _kernels, _num_kernels, _kernel_size, _input_size)\n",
    "_output2 = forward_propagation(_input_img, _kernels2, _num_kernels, _kernel_size, _input_size)\n",
    "s1 = _output.sum()\n",
    "s2 = _output2.sum()\n",
    "print(s2-s1)"
   ]
  },
  {
   "cell_type": "code",
   "execution_count": 16,
   "id": "a5eadf80-f760-4840-b6c6-dc238113234b",
   "metadata": {},
   "outputs": [
    {
     "data": {
      "text/plain": [
       "27525.0"
      ]
     },
     "execution_count": 16,
     "metadata": {},
     "output_type": "execute_result"
    }
   ],
   "source": [
    "_kernels_grad = backward_propagation_kernels(_input_img, _kernels, _num_kernels, _kernel_size, _output, _output_error, 0.001)\n",
    "_kernels_grad[x][y][z]"
   ]
  },
  {
   "cell_type": "code",
   "execution_count": 18,
   "id": "d36558bf-eb33-4ff7-8f3f-a721516279a6",
   "metadata": {},
   "outputs": [
    {
     "data": {
      "text/plain": [
       "array([  0.,   0.,   0.,   0.,   0.,   0.,   0.,   0.,   0.,   0.,   0.,\n",
       "         0.,   0.,   0.,   0.,   0.,   0.,   0.,   0.,   0.,   0.,   0.,\n",
       "         0.,   0.,   0.,   0.,   0.,   0.,   0.,   0.,   0.,   0.,   0.,\n",
       "         0.,   0.,   0.,   0.,   0.,   0.,   0.,   0.,   0.,   0.,   0.,\n",
       "         0.,   0.,   0.,   0.,   0.,   0.,   0.,   0.,   0.,   0.,   0.,\n",
       "         0.,   0.,   0.,   0.,   0.,   0.,   0.,   0.,   0.,   0.,   0.,\n",
       "         0.,   0.,   0.,   0.,   0.,   0.,   0.,   0.,   0.,   0.,   0.,\n",
       "         0.,   0.,   0.,   0.,   0.,   0.,   0.,   0.,   0.,   0.,   0.,\n",
       "         0.,   0.,   0.,   0.,   0.,   0.,   0.,   0.,   0.,   0.,   0.,\n",
       "         0.,   0.,   0.,   0.,   0.,   0.,   0.,   0.,   0.,   0.,   0.,\n",
       "         0.,   0.,   0.,   0.,   0.,   0.,   0.,   0.,   0.,   0.,   0.,\n",
       "         0.,   0.,   0.,   0.,   0.,   0.,   0.,   0.,   0.,   0.,   0.,\n",
       "         0.,   0.,   0.,   0.,   0.,   0.,   0.,   0.,   0.,   0.,   0.,\n",
       "         0.,   0.,   0.,   0.,   0.,   0.,   0.,   0.,   0.,   3.,  18.,\n",
       "        18.,  18., 126., 136., 175.,  26., 166., 255., 247., 127.,   0.,\n",
       "         0.,   0.,   0.,   0.,   0.,   0.,   0.,   0.,   0.,   0.,   0.,\n",
       "        30.,  36.,  94., 154., 170., 253., 253., 253., 253., 253., 225.,\n",
       "       172., 253., 242., 195.,  64.,   0.,   0.,   0.,   0.,   0.,   0.,\n",
       "         0.,   0.,   0.,   0.,   0.,  49., 238., 253., 253., 253., 253.,\n",
       "       253., 253., 253., 253., 251.,  93.,  82.,  82.,  56.,  39.,   0.,\n",
       "         0.,   0.,   0.,   0.,   0.,   0.,   0.,   0.,   0.,   0.,   0.,\n",
       "        18., 219., 253., 253., 253., 253., 253., 198., 182., 247., 241.,\n",
       "         0.,   0.,   0.,   0.,   0.,   0.,   0.,   0.,   0.,   0.,   0.,\n",
       "         0.,   0.,   0.,   0.,   0.,   0.,   0.,  80., 156., 107., 253.,\n",
       "       253., 205.,  11.,   0.,  43., 154.,   0.,   0.,   0.,   0.,   0.,\n",
       "         0.,   0.,   0.,   0.,   0.,   0.,   0.,   0.,   0.,   0.,   0.,\n",
       "         0.,   0.,   0.,  14.,   1., 154., 253.,  90.,   0.,   0.,   0.,\n",
       "         0.,   0.,   0.,   0.,   0.,   0.,   0.,   0.,   0.,   0.,   0.,\n",
       "         0.,   0.,   0.,   0.,   0.,   0.,   0.,   0.,   0.,   0.,   0.,\n",
       "       139., 253., 190.,   2.,   0.,   0.,   0.,   0.,   0.,   0.,   0.,\n",
       "         0.,   0.,   0.,   0.,   0.,   0.,   0.,   0.,   0.,   0.,   0.,\n",
       "         0.,   0.,   0.,   0.,   0.,   0.,  11., 190., 253.,  70.,   0.,\n",
       "         0.,   0.,   0.,   0.,   0.,   0.,   0.,   0.,   0.,   0.,   0.,\n",
       "         0.,   0.,   0.,   0.,   0.,   0.,   0.,   0.,   0.,   0.,   0.,\n",
       "         0.,   0.,  35., 241., 225., 160., 108.,   1.,   0.,   0.,   0.,\n",
       "         0.,   0.,   0.,   0.,   0.,   0.,   0.,   0.,   0.,   0.,   0.,\n",
       "         0.,   0.,   0.,   0.,   0.,   0.,   0.,   0.,   0.,  81., 240.,\n",
       "       253., 253., 119.,  25.,   0.,   0.,   0.,   0.,   0.,   0.,   0.,\n",
       "         0.,   0.,   0.,   0.,   0.,   0.,   0.,   0.,   0.,   0.,   0.,\n",
       "         0.,   0.,   0.,   0.,   0.,  45., 186., 253., 253., 150.,  27.,\n",
       "         0.,   0.,   0.,   0.,   0.,   0.,   0.,   0.,   0.,   0.,   0.,\n",
       "         0.,   0.,   0.,   0.,   0.,   0.,   0.,   0.,   0.,   0.,   0.,\n",
       "         0.,  16.,  93., 252., 253., 187.,   0.,   0.,   0.,   0.,   0.,\n",
       "         0.,   0.,   0.,   0.,   0.,   0.,   0.,   0.,   0.,   0.,   0.,\n",
       "         0.,   0.,   0.,   0.,   0.,   0.,   0.,   0.,   0., 249., 253.,\n",
       "       249.,  64.,   0.,   0.,   0.,   0.,   0.,   0.,   0.,   0.,   0.,\n",
       "         0.,   0.,   0.,   0.,   0.,   0.,   0.,   0.,   0.,   0.,   0.,\n",
       "         0.,  46., 130., 183., 253., 253., 207.,   2.,   0.,   0.,   0.,\n",
       "         0.,   0.,   0.,   0.,   0.,   0.,   0.,   0.,   0.,   0.,   0.,\n",
       "         0.,   0.,   0.,   0.,   0.,  39., 148., 229., 253., 253., 253.,\n",
       "       250., 182.,   0.,   0.,   0.,   0.,   0.,   0.,   0.,   0.,   0.,\n",
       "         0.,   0.,   0.,   0.,   0.,   0.,   0.,   0.,   0.,  24., 114.,\n",
       "       221., 253., 253., 253., 253., 201.,  78.,   0.,   0.,   0.,   0.,\n",
       "         0.,   0.,   0.,   0.,   0.,   0.,   0.,   0.,   0.,   0.,   0.,\n",
       "         0.,   0.,  23.,  66., 213., 253., 253., 253., 253., 198.,  81.,\n",
       "         2.,   0.,   0.,   0.,   0.,   0.,   0.,   0.,   0.,   0.,   0.,\n",
       "         0.,   0.,   0.,   0.,   0.,   0.,  18., 171., 219., 253., 253.,\n",
       "       253., 253., 195.,  80.,   9.,   0.,   0.,   0.,   0.,   0.,   0.,\n",
       "         0.,   0.,   0.,   0.,   0.,   0.,   0.,   0.,   0.,   0.,  55.,\n",
       "       172., 226., 253., 253., 253., 253., 244., 133.,  11.,   0.,   0.,\n",
       "         0.,   0.,   0.,   0.,   0.,   0.,   0.,   0.,   0.,   0.,   0.,\n",
       "         0.,   0.,   0.,   0.,   0., 136., 253., 253., 253., 212., 135.,\n",
       "       132.,  16.,   0.,   0.,   0.,   0.,   0.,   0.,   0.,   0.,   0.,\n",
       "         0.,   0.,   0.,   0.,   0.,   0.,   0.,   0.,   0.,   0.,   0.,\n",
       "         0.,   0.,   0.,   0.,   0.,   0.,   0.,   0.,   0.,   0.,   0.,\n",
       "         0.,   0.,   0.,   0.,   0.,   0.,   0.,   0.,   0.,   0.,   0.,\n",
       "         0.,   0.,   0.,   0.,   0.,   0.,   0.,   0.,   0.,   0.,   0.,\n",
       "         0.,   0.,   0.,   0.,   0.,   0.,   0.,   0.,   0.,   0.,   0.,\n",
       "         0.,   0.,   0.,   0.,   0.,   0.,   0.,   0.,   0.,   0.,   0.,\n",
       "         0.,   0.,   0.,   0.,   0.,   0.,   0.,   0.,   0.,   0.,   0.,\n",
       "         0.,   0.,   0.,   0.,   0.,   0.,   0.,   0.,   0.,   0.,   0.,\n",
       "         0.,   0.,   0.], dtype=float32)"
      ]
     },
     "execution_count": 18,
     "metadata": {},
     "output_type": "execute_result"
    }
   ],
   "source": [
    "# flatten operation\n",
    "flat = _input_img.reshape(-1)\n",
    "flat"
   ]
  },
  {
   "cell_type": "code",
   "execution_count": null,
   "id": "2b481367-b884-49ea-b181-38c3ec15a37e",
   "metadata": {},
   "outputs": [],
   "source": []
  }
 ],
 "metadata": {
  "kernelspec": {
   "display_name": "Python 3 (ipykernel)",
   "language": "python",
   "name": "python3"
  },
  "language_info": {
   "codemirror_mode": {
    "name": "ipython",
    "version": 3
   },
   "file_extension": ".py",
   "mimetype": "text/x-python",
   "name": "python",
   "nbconvert_exporter": "python",
   "pygments_lexer": "ipython3",
   "version": "3.8.10"
  }
 },
 "nbformat": 4,
 "nbformat_minor": 5
}
