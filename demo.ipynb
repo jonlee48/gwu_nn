{
 "cells": [
  {
   "cell_type": "markdown",
   "metadata": {
    "tags": []
   },
   "source": [
    "# Convolutional Neural Network Implementation in GWU_NN\n",
    "Demo of simple CNN vs Dense network trained on MNIST handwritten digits dataset.\n",
    "\n",
    "## Import libraries \n",
    "Only using sklearn and tensorflow for test_train_split and importing the mnist dataset."
   ]
  },
  {
   "cell_type": "code",
   "execution_count": 1,
   "metadata": {},
   "outputs": [],
   "source": [
    "import numpy as np\n",
    "import matplotlib.pyplot as plt\n",
    "\n",
    "from sklearn.model_selection import train_test_split\n",
    "from tensorflow.keras.datasets import mnist\n",
    "\n",
    "from gwu_nn.gwu_network import GWUNetwork\n",
    "from gwu_nn.layers import Dense, Convolutional, Flatten, MaxPool"
   ]
  },
  {
   "cell_type": "markdown",
   "metadata": {},
   "source": [
    "## Setting up the data\n",
    "Load the MNIST dataset and split into training and testing sets. "
   ]
  },
  {
   "cell_type": "code",
   "execution_count": 2,
   "metadata": {},
   "outputs": [
    {
     "name": "stdout",
     "output_type": "stream",
     "text": [
      "x_train_sample: (200, 28, 28)\n",
      "x_test_sample: (500, 28, 28)\n"
     ]
    }
   ],
   "source": [
    "# Load the MNIST dataset\n",
    "(X_train, y_train), (X_test, y_test) = mnist.load_data()\n",
    "\n",
    "num1 = 0\n",
    "num2 = 1\n",
    "x_train_sample = []\n",
    "y_train_sample = []\n",
    "train_samples = 200\n",
    "\n",
    "for i in range(len(X_train)):\n",
    "    if y_train[i] == num1 or y_train[i] == num2:\n",
    "        x_train_sample.append(X_train[i])\n",
    "        y_train_sample.append(y_train[i])\n",
    "    if len(x_train_sample) >= train_samples:\n",
    "        break\n",
    "\n",
    "x_test_sample = []\n",
    "y_test_sample = []\n",
    "i_test_sample = []\n",
    "samples = 500\n",
    "\n",
    "for i in range(len(X_test)):\n",
    "    if y_test[i] == num1 or y_test[i] == num2:\n",
    "        x_test_sample.append(X_test[i])\n",
    "        y_test_sample.append(y_test[i])\n",
    "        i_test_sample.append(i)\n",
    "    if len(x_test_sample) >= samples:\n",
    "        break\n",
    "        \n",
    "print(\"x_train_sample: \" + str(np.array(x_train_sample).shape))\n",
    "print(\"x_test_sample: \" + str(np.array(x_test_sample).shape))"
   ]
  },
  {
   "cell_type": "markdown",
   "metadata": {
    "tags": []
   },
   "source": [
    "## Training a Dense Network\n",
    "Setup and train a simple dense network to use as benchmark against the CNN model."
   ]
  },
  {
   "cell_type": "code",
   "execution_count": 3,
   "metadata": {},
   "outputs": [
    {
     "name": "stdout",
     "output_type": "stream",
     "text": [
      "Model:\n",
      "Flatten - (28, 784)\n",
      "Dense - (784, 20)\n",
      "Dense - (20, 1)\n",
      "\n"
     ]
    },
    {
     "name": "stderr",
     "output_type": "stream",
     "text": [
      "/mnt/d/sync/gw/fall2021/csci6907_neural_networks/gwu_nn/gwu_nn/loss_functions.py:34: RuntimeWarning: divide by zero encountered in log\n",
      "  return np.mean(-np.log(y_pred)*y_true + -np.log(1-y_pred)*(1-y_true))\n",
      "/mnt/d/sync/gw/fall2021/csci6907_neural_networks/gwu_nn/gwu_nn/loss_functions.py:34: RuntimeWarning: invalid value encountered in multiply\n",
      "  return np.mean(-np.log(y_pred)*y_true + -np.log(1-y_pred)*(1-y_true))\n"
     ]
    },
    {
     "name": "stdout",
     "output_type": "stream",
     "text": [
      "epoch 1/1   error=nan\n"
     ]
    }
   ],
   "source": [
    "np.random.seed(1)\n",
    "np.random.RandomState(1)\n",
    "\n",
    "dense = GWUNetwork()\n",
    "dense.add(Flatten(28,input_channels=1))\n",
    "dense.add(Dense(20, activation='relu'))\n",
    "dense.add(Dense(1, add_bias=False, activation='sigmoid'))\n",
    "\n",
    "# Finally to complete our model we need to compile it. This defines our loss function and learning_rate\n",
    "dense.compile(loss='log_loss', lr=0.001)\n",
    "print(dense)\n",
    "dense.fit(x_train_sample, y_train_sample, epochs=1)"
   ]
  },
  {
   "cell_type": "markdown",
   "metadata": {
    "tags": []
   },
   "source": [
    "## Evaluating the Dense Network\n",
    "Generate predictions using the test split."
   ]
  },
  {
   "cell_type": "code",
   "execution_count": 4,
   "metadata": {},
   "outputs": [
    {
     "name": "stdout",
     "output_type": "stream",
     "text": [
      "Dense model accuracy: 79.4\n"
     ]
    }
   ],
   "source": [
    "# Predict using the test set. Calculate the accuracy\n",
    "dense_raw_predictions = dense.predict(x_test_sample)\n",
    "\n",
    "dense_predictions = [round(x[0][0]) for x in dense_raw_predictions]\n",
    "dense_actual = [y for y in y_test_sample]\n",
    "count = 0\n",
    "for p,a in zip(dense_predictions,dense_actual):\n",
    "    if p == a:\n",
    "        count += 1\n",
    "\n",
    "print(\"Dense model accuracy: \" + str(100 * count/len(dense_predictions)))"
   ]
  },
  {
   "cell_type": "markdown",
   "metadata": {
    "tags": []
   },
   "source": [
    "## Training a Convolutional Neural Network\n",
    "Setup and train a simple CNN. Only using one convolutional layer to keep things fast."
   ]
  },
  {
   "cell_type": "code",
   "execution_count": 5,
   "metadata": {},
   "outputs": [
    {
     "name": "stdout",
     "output_type": "stream",
     "text": [
      "Model:\n",
      "Convolutional - (28, 28)\n",
      "MaxPool - (28, 14)\n",
      "Flatten - (14, 196)\n",
      "Dense - (196, 40)\n",
      "Dense - (40, 1)\n",
      "\n",
      "epoch 1/1   error=nan\n"
     ]
    }
   ],
   "source": [
    "np.random.seed(1)\n",
    "np.random.RandomState(1)\n",
    "\n",
    "cnn = GWUNetwork()\n",
    "cnn.add(Convolutional(input_size=28, input_channels=1, kernel_size=3, num_kernels=1, activation='relu'))\n",
    "cnn.add(MaxPool(28,2))\n",
    "cnn.add(Flatten(14,input_channels=1)) # input size = 28/2\n",
    "cnn.add(Dense(40, activation='relu')) # gets double the neurons here since input is only 14 (vs dense's 28)\n",
    "cnn.add(Dense(1, add_bias=False, activation='sigmoid'))\n",
    "\n",
    "# Finally to complete our model we need to compile it. This defines our loss function and learning_rate\n",
    "cnn.compile(loss='log_loss', lr=0.001)\n",
    "print(cnn)\n",
    "cnn.fit(x_train_sample, y_train_sample, epochs=1)"
   ]
  },
  {
   "cell_type": "markdown",
   "metadata": {
    "tags": []
   },
   "source": [
    "## Evaluating the CNN\n",
    "Generate predictions using the test split."
   ]
  },
  {
   "cell_type": "code",
   "execution_count": 6,
   "metadata": {},
   "outputs": [
    {
     "name": "stdout",
     "output_type": "stream",
     "text": [
      "CNN model accuracy: 89.0\n"
     ]
    }
   ],
   "source": [
    "# Predict using the test set. Calculate the accuracy\n",
    "cnn_raw_predictions = cnn.predict(x_test_sample)\n",
    "\n",
    "# calculate accuracy and show incorrect classifications\n",
    "cnn_predictions = [round(x[0][0]) for x in cnn_raw_predictions]\n",
    "count = 0\n",
    "for p,a,i in zip(cnn_predictions,y_test_sample,i_test_sample):\n",
    "    if p == a:\n",
    "        count += 1\n",
    "\n",
    "print(\"CNN model accuracy: \" + str(100 * count/len(cnn_predictions)))\n",
    "#print(cnn_predictions)\n",
    "#print(y_test_sample)"
   ]
  },
  {
   "cell_type": "markdown",
   "metadata": {},
   "source": [
    "## Show a random evaluation"
   ]
  },
  {
   "cell_type": "code",
   "execution_count": 12,
   "metadata": {},
   "outputs": [
    {
     "name": "stdout",
     "output_type": "stream",
     "text": [
      "Dense Prediction: 0\n",
      "CNN Prediction: 0\n",
      "Actual: 0\n"
     ]
    },
    {
     "data": {
      "image/png": "[encoded data removed]",
      "text/plain": [
       "<Figure size 432x288 with 1 Axes>"
      ]
     },
     "metadata": {
      "needs_background": "light"
     },
     "output_type": "display_data"
    }
   ],
   "source": [
    "show_idx = 3\n",
    "\n",
    "print(\"Dense Prediction: \" + str(dense_predictions[show_idx]))\n",
    "print(\"CNN Prediction: \" + str(cnn_predictions[show_idx]))\n",
    "print(\"Actual: \" + str(y_test_sample[show_idx]))\n",
    "ax = plt.subplot()\n",
    "plt.imshow(x_test_sample[show_idx], cmap='gray')\n",
    "plt.show()"
   ]
  },
  {
   "cell_type": "code",
   "execution_count": null,
   "metadata": {},
   "outputs": [],
   "source": []
  }
 ],
 "metadata": {
  "kernelspec": {
   "display_name": "Python 3 (ipykernel)",
   "language": "python",
   "name": "python3"
  },
  "language_info": {
   "codemirror_mode": {
    "name": "ipython",
    "version": 3
   },
   "file_extension": ".py",
   "mimetype": "text/x-python",
   "name": "python",
   "nbconvert_exporter": "python",
   "pygments_lexer": "ipython3",
   "version": "3.8.10"
  }
 },
 "nbformat": 4,
 "nbformat_minor": 4
}
