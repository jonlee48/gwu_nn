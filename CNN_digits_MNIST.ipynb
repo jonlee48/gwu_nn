{
 "cells": [
  {
   "cell_type": "markdown",
   "id": "bf89d465-5b12-4c81-814b-ad8c35c6242f",
   "metadata": {},
   "source": [
    "# Convolutional Neural Networks\n",
    "Convolutional Neural Networks (CNN's) are the methodology for image processing for neural networks. They are most commonly implmented for image classification problems, but can be modified to help solve even more complex problems.\n",
    "\n",
    "CNN's work primarily by extending the concepts we talked about in the previous notebook; convolutional filters.\n",
    "\n",
    "----"
   ]
  },
  {
   "cell_type": "markdown",
   "id": "12569679-d939-4e24-8f5e-9db6ed392f41",
   "metadata": {
    "tags": []
   },
   "source": [
    "## CNN Workflow\n",
    "CNN's generate identifying features of a given image by cycling through a couple of steps:\n",
    " 1. Create random filters\n",
    " 2. Apply filters to base image\n",
    " 3. Apply activation function to filtered image\n",
    " 4. Pool image into a smaller representative image\n",
    " 5. Repeat\n",
    " \n",
    " ![](https://ujwlkarn.files.wordpress.com/2016/08/screen-shot-2016-08-07-at-4-59-29-pm.png?w=1493)\n",
    " \n",
    " [Another useful visualization](https://cs.stanford.edu/people/karpathy/convnetjs/demo/cifar10.html)\n",
    " \n",
    "Once we have generated our feature space, through the process of iterative filtering/activation/pooling, we are ready to perform our classification step. Prior to any classification though, we need to fully connect our resulting filtered images into a single vector for analysis.\n",
    " \n",
    "Once we have transformed our original image into a fully-connected vector, it can now be used for traditional classification purposes.\n",
    "\n",
    "----"
   ]
  },
  {
   "cell_type": "markdown",
   "id": "3ef79aeb-0df1-4154-b7c5-e066a9d963a5",
   "metadata": {},
   "source": [
    "# CNN Example\n",
    "To fully demonstrate the CNN pipeline we'll walk through an example using Keras and Tensorflow where we will build out a network to classify images.\n",
    "\n",
    "To start we'll begin by exploring our dateset.\n",
    "## The Dataset:\n",
    "### Handwritten digits MNIST Database\n",
    "Historically the more traditional dataset for image classification is the [MNIST dataset](https://en.wikipedia.org/wiki/MNIST_database). The MNIST dataset is a collection of handdrawn digits and is the basis for the interactive example linked above."
   ]
  },
  {
   "cell_type": "markdown",
   "id": "02a5c4b6-b135-49c0-8751-94ccf198fa5e",
   "metadata": {},
   "source": [
    "## Loading the data\n",
    "Keras, like scikit-learn, has a number of preloaded datasets to work with. This means that we can simply reference the dataset using keras.\n",
    "\n",
    "```python\n",
    "from tensorflow.keras.datasets import fashion_mnist\n",
    "(x_train, y_train), (x_test, y_test) = fashion_mnist.load_data()\n",
    "```"
   ]
  },
  {
   "cell_type": "code",
   "execution_count": 2,
   "id": "1916ea30-f317-4846-b4af-8381cf4ce469",
   "metadata": {},
   "outputs": [],
   "source": [
    "import matplotlib.pyplot as plt\n",
    "\n",
    "from tensorflow.keras.datasets import mnist\n",
    "(x_train, y_train), (x_test, y_test) = mnist.load_data()"
   ]
  },
  {
   "cell_type": "code",
   "execution_count": 3,
   "id": "e44ec74d-e6d6-48f3-a71c-6058867a02be",
   "metadata": {},
   "outputs": [
    {
     "name": "stdout",
     "output_type": "stream",
     "text": [
      "(28, 28)\n",
      "[[  0   0   0   0   0   0   0   0   0   0   0   0   0   0   0   0   0   0\n",
      "    0   0   0   0   0   0   0   0   0   0]\n",
      " [  0   0   0   0   0   0   0   0   0   0   0   0   0   0   0   0   0   0\n",
      "    0   0   0   0   0   0   0   0   0   0]\n",
      " [  0   0   0   0   0   0   0   0   0   0   0   0   0   0   0   0   0   0\n",
      "    0   0   0   0   0   0   0   0   0   0]\n",
      " [  0   0   0   0   0   0   0   0   0   0   0   0   0   0   0   0   0   0\n",
      "    0   0   0   0   0   0   0   0   0   0]\n",
      " [  0   0   0   0   0   0   0   0   0   0   0   0   0   0   0   0   0   0\n",
      "    0   0   0   0   0   0   0   0   0   0]\n",
      " [  0   0   0   0   0   0   0   0   0   0   0   0   3  18  18  18 126 136\n",
      "  175  26 166 255 247 127   0   0   0   0]\n",
      " [  0   0   0   0   0   0   0   0  30  36  94 154 170 253 253 253 253 253\n",
      "  225 172 253 242 195  64   0   0   0   0]\n",
      " [  0   0   0   0   0   0   0  49 238 253 253 253 253 253 253 253 253 251\n",
      "   93  82  82  56  39   0   0   0   0   0]\n",
      " [  0   0   0   0   0   0   0  18 219 253 253 253 253 253 198 182 247 241\n",
      "    0   0   0   0   0   0   0   0   0   0]\n",
      " [  0   0   0   0   0   0   0   0  80 156 107 253 253 205  11   0  43 154\n",
      "    0   0   0   0   0   0   0   0   0   0]\n",
      " [  0   0   0   0   0   0   0   0   0  14   1 154 253  90   0   0   0   0\n",
      "    0   0   0   0   0   0   0   0   0   0]\n",
      " [  0   0   0   0   0   0   0   0   0   0   0 139 253 190   2   0   0   0\n",
      "    0   0   0   0   0   0   0   0   0   0]\n",
      " [  0   0   0   0   0   0   0   0   0   0   0  11 190 253  70   0   0   0\n",
      "    0   0   0   0   0   0   0   0   0   0]\n",
      " [  0   0   0   0   0   0   0   0   0   0   0   0  35 241 225 160 108   1\n",
      "    0   0   0   0   0   0   0   0   0   0]\n",
      " [  0   0   0   0   0   0   0   0   0   0   0   0   0  81 240 253 253 119\n",
      "   25   0   0   0   0   0   0   0   0   0]\n",
      " [  0   0   0   0   0   0   0   0   0   0   0   0   0   0  45 186 253 253\n",
      "  150  27   0   0   0   0   0   0   0   0]\n",
      " [  0   0   0   0   0   0   0   0   0   0   0   0   0   0   0  16  93 252\n",
      "  253 187   0   0   0   0   0   0   0   0]\n",
      " [  0   0   0   0   0   0   0   0   0   0   0   0   0   0   0   0   0 249\n",
      "  253 249  64   0   0   0   0   0   0   0]\n",
      " [  0   0   0   0   0   0   0   0   0   0   0   0   0   0  46 130 183 253\n",
      "  253 207   2   0   0   0   0   0   0   0]\n",
      " [  0   0   0   0   0   0   0   0   0   0   0   0  39 148 229 253 253 253\n",
      "  250 182   0   0   0   0   0   0   0   0]\n",
      " [  0   0   0   0   0   0   0   0   0   0  24 114 221 253 253 253 253 201\n",
      "   78   0   0   0   0   0   0   0   0   0]\n",
      " [  0   0   0   0   0   0   0   0  23  66 213 253 253 253 253 198  81   2\n",
      "    0   0   0   0   0   0   0   0   0   0]\n",
      " [  0   0   0   0   0   0  18 171 219 253 253 253 253 195  80   9   0   0\n",
      "    0   0   0   0   0   0   0   0   0   0]\n",
      " [  0   0   0   0  55 172 226 253 253 253 253 244 133  11   0   0   0   0\n",
      "    0   0   0   0   0   0   0   0   0   0]\n",
      " [  0   0   0   0 136 253 253 253 212 135 132  16   0   0   0   0   0   0\n",
      "    0   0   0   0   0   0   0   0   0   0]\n",
      " [  0   0   0   0   0   0   0   0   0   0   0   0   0   0   0   0   0   0\n",
      "    0   0   0   0   0   0   0   0   0   0]\n",
      " [  0   0   0   0   0   0   0   0   0   0   0   0   0   0   0   0   0   0\n",
      "    0   0   0   0   0   0   0   0   0   0]\n",
      " [  0   0   0   0   0   0   0   0   0   0   0   0   0   0   0   0   0   0\n",
      "    0   0   0   0   0   0   0   0   0   0]]\n"
     ]
    }
   ],
   "source": [
    "print(x_train[0].shape)\n",
    "print(x_train[0])"
   ]
  },
  {
   "cell_type": "code",
   "execution_count": 4,
   "id": "20d2abd1-81f2-435d-98e8-f415deb7877a",
   "metadata": {},
   "outputs": [
    {
     "data": {
      "text/plain": [
       "<matplotlib.image.AxesImage at 0x7f3b635648b0>"
      ]
     },
     "execution_count": 4,
     "metadata": {},
     "output_type": "execute_result"
    },
    {
     "data": {
      "image/png": "[encoded data removed]",
      "text/plain": [
       "<Figure size 432x288 with 1 Axes>"
      ]
     },
     "metadata": {
      "needs_background": "light"
     },
     "output_type": "display_data"
    }
   ],
   "source": [
    "plt.imshow(x_train[0], cmap='gray')"
   ]
  },
  {
   "cell_type": "code",
   "execution_count": 5,
   "id": "8efe6f10-3e74-4b65-9a96-090b9bf781dd",
   "metadata": {},
   "outputs": [
    {
     "data": {
      "text/plain": [
       "5"
      ]
     },
     "execution_count": 5,
     "metadata": {},
     "output_type": "execute_result"
    }
   ],
   "source": [
    "y_train[0]"
   ]
  },
  {
   "cell_type": "markdown",
   "id": "1b6a4969-1178-4d12-845e-5fea1bb94500",
   "metadata": {},
   "source": [
    "Given that our y labels aren't one_hot encoded, we will still need to translate them using keras's `to_categorical`. In addition, we'll need to reshape the X inputs, as Keras does expect a 3D tensor where the current `X_train/X_test` are actually 2D (28 x 28)."
   ]
  },
  {
   "cell_type": "code",
   "execution_count": 6,
   "id": "e3c5c2dc-de3c-4b01-a081-ce3a32127c89",
   "metadata": {},
   "outputs": [
    {
     "name": "stdout",
     "output_type": "stream",
     "text": [
      "(28, 28, 1)\n",
      "10\n"
     ]
    }
   ],
   "source": [
    "from tensorflow.keras.utils import to_categorical\n",
    "\n",
    "# Reshaping the inputs\n",
    "x_train = x_train.reshape(x_train.shape[0], 28, 28, 1).astype('float32')\n",
    "x_test = x_test.reshape(x_test.shape[0], 28, 28, 1).astype('float32')\n",
    "input_shape = x_train[0].shape\n",
    "print(input_shape) # What is our input shape/shape of our image\n",
    "\n",
    "# Turning the outputs into one-hot encoded representations\n",
    "y_train_one = to_categorical(y_train)\n",
    "y_test_one = to_categorical(y_test)\n",
    "num_classes = y_test_one.shape[1]\n",
    "print(num_classes) # How many classes are there?"
   ]
  },
  {
   "cell_type": "markdown",
   "id": "b2511645-685e-4b05-9e04-03fbef35618b",
   "metadata": {},
   "source": [
    "If you notice the y labels are simply numerically encoded. We can look up the actual labels in the [keras documentation](https://keras.io/api/datasets/fashion_mnist/), and setup a label lookup, however for running our exercises it actually doesn't matter."
   ]
  },
  {
   "cell_type": "code",
   "execution_count": 8,
   "id": "38d9c866-94da-47fc-b5ea-6cd765ddb234",
   "metadata": {},
   "outputs": [
    {
     "name": "stdout",
     "output_type": "stream",
     "text": [
      "5\n",
      "5\n"
     ]
    }
   ],
   "source": [
    "from numpy import argmax\n",
    "\n",
    "# This is our label to real world term dictionary\n",
    "label_dict = {\n",
    " 0: '0',\n",
    " 1: '1',\n",
    " 2: '2',\n",
    " 3: '3',\n",
    " 4: '4',\n",
    " 5: '5',\n",
    " 6: '6',\n",
    " 7: '7',\n",
    " 8: '8',\n",
    " 9: '9'\n",
    "}\n",
    "\n",
    "# Depending on the format we may need argmax to interpret the results\n",
    "print(label_dict[y_train[0]])\n",
    "print(label_dict[argmax(y_train_one[0])])"
   ]
  },
  {
   "cell_type": "markdown",
   "id": "4dfdbd0a-be3a-4838-bdbf-a472896b0a54",
   "metadata": {},
   "source": [
    "## Building the Model\n",
    "We start the model by instantiating a sequential model:\n",
    "```python\n",
    "model = Sequential()\n",
    "```\n",
    "\n",
    "Next we add the first convolutional layer. Here we need to define the input_shape as it can't be inferred. We also have the option to define the size of the kernel (which defines the kinds of features/filters that will be created), the stride (which defines if we skip pixels while prcoessing), as well as a number of other hyperparameters:\n",
    "```python\n",
    "model.add(Conv2D(75, kernel_size=(3, 3), strides=(1, 1), activation='relu', input_shape=input_shape))\n",
    "```\n",
    "\n",
    "We then pool the resulting features/filters primarily to shrink the number of calculations:\n",
    "```python\n",
    "model.add(MaxPooling2D(pool_size=(2, 2), strides=(2, 2)))\n",
    "```\n",
    "\n",
    "After some repitition of these layers we will eventually flatten the data into a 1-Dimensional array. This is done so that we can create a fully-connected layer so the network can use all of the generated features/filters to classify the image.\n",
    "```python\n",
    "model.add(Flatten())\n",
    "model.add(Dense(128, activation='relu'))\n",
    "```\n",
    "\n",
    "Finally we add a final output layer (in this case a Dense/Fully-connected layer) that will produce the model's output. In our instance, the output layer produces **num_classes** outputs - as each of these outputs will identify the probability of each classification.\n",
    "```python\n",
    "model.add(Dense(num_classes, activation='softmax'))\n",
    "```\n",
    "\n",
    "To make this all work we still need to compile the model, which effectively tells Keras/Tensorflow how the model will train and evaluate itself:\n",
    "```python\n",
    "model.compile(loss='categorical_crossentropy', optimizer='adam', metrics=['accuracy'])\n",
    "```\n",
    "\n",
    "All together the result can be seen below."
   ]
  },
  {
   "cell_type": "code",
   "execution_count": 9,
   "id": "d6a51d6f-19ea-489a-84a7-8ca1b9dd342a",
   "metadata": {},
   "outputs": [],
   "source": [
    "from tensorflow.keras.models import Sequential\n",
    "from tensorflow.keras.layers import Dense, Activation, Conv2D, MaxPooling2D, Flatten, Dropout\n",
    "\n",
    "def build_model():\n",
    "    model = Sequential()\n",
    "    \n",
    "    model.add(Conv2D(16, kernel_size=(3, 3),\n",
    "                     activation='relu',\n",
    "                     input_shape=input_shape)) # Our input shape will be the dimensions of our image\n",
    "    \n",
    "    model.add(Conv2D(48, (3, 3), activation='relu'))\n",
    "    model.add(MaxPooling2D(pool_size=(2, 2)))\n",
    "    model.add(Dropout(0.2))\n",
    "    \n",
    "    model.add(Flatten()) # This compresses all the values to a single dimension\n",
    "    model.add(Dense(128, activation='relu'))\n",
    "    model.add(Dense(num_classes, activation='softmax'))\n",
    "\n",
    "    model.compile(loss=\"categorical_crossentropy\",\n",
    "                  optimizer='adam', metrics=['accuracy'])\n",
    "    return(model)\n",
    "    \n",
    "    "
   ]
  },
  {
   "cell_type": "markdown",
   "id": "32b19636-2845-4a80-a91a-e2ecb65c245d",
   "metadata": {},
   "source": [
    "### Training Our Model\n",
    "Just like when solving the regression problems, we'll need to train our model with our training datasets. This way we can determine the optimal weights for the filters and fully connected layers (of the ANN portion)."
   ]
  },
  {
   "cell_type": "code",
   "execution_count": 10,
   "id": "54c623db-9d77-421f-91b2-fb62d65d5b4e",
   "metadata": {
    "scrolled": true,
    "tags": []
   },
   "outputs": [
    {
     "name": "stderr",
     "output_type": "stream",
     "text": [
      "2021-12-06 20:14:21.252094: I tensorflow/core/platform/cpu_feature_guard.cc:142] This TensorFlow binary is optimized with oneAPI Deep Neural Network Library (oneDNN)to use the following CPU instructions in performance-critical operations:  SSE4.1 SSE4.2 AVX AVX2 FMA\n",
      "To enable them in other operations, rebuild TensorFlow with the appropriate compiler flags.\n",
      "2021-12-06 20:14:21.307189: I tensorflow/core/platform/profile_utils/cpu_utils.cc:104] CPU Frequency: 1992000000 Hz\n",
      "2021-12-06 20:14:21.308944: I tensorflow/compiler/xla/service/service.cc:168] XLA service 0x560919124830 initialized for platform Host (this does not guarantee that XLA will be used). Devices:\n",
      "2021-12-06 20:14:21.308975: I tensorflow/compiler/xla/service/service.cc:176]   StreamExecutor device (0): Host, Default Version\n"
     ]
    },
    {
     "name": "stdout",
     "output_type": "stream",
     "text": [
      "Epoch 1/3\n",
      "600/600 [==============================] - 40s 66ms/step - loss: 0.8922 - accuracy: 0.9312\n",
      "Epoch 2/3\n",
      "600/600 [==============================] - 39s 64ms/step - loss: 0.0649 - accuracy: 0.9797\n",
      "Epoch 3/3\n",
      "600/600 [==============================] - 38s 64ms/step - loss: 0.0467 - accuracy: 0.9851\n"
     ]
    },
    {
     "data": {
      "text/plain": [
       "<tensorflow.python.keras.callbacks.History at 0x7f3b5ccf26a0>"
      ]
     },
     "execution_count": 10,
     "metadata": {},
     "output_type": "execute_result"
    }
   ],
   "source": [
    "model = build_model()\n",
    "\n",
    "model.fit(x_train, y_train_one, epochs=3, batch_size=100)"
   ]
  },
  {
   "cell_type": "code",
   "execution_count": 11,
   "id": "f3c8b9d7-679f-465c-bc6e-6c8f9ca313ed",
   "metadata": {},
   "outputs": [
    {
     "name": "stdout",
     "output_type": "stream",
     "text": [
      "Model: \"sequential\"\n",
      "_________________________________________________________________\n",
      "Layer (type)                 Output Shape              Param #   \n",
      "=================================================================\n",
      "conv2d (Conv2D)              (None, 26, 26, 16)        160       \n",
      "_________________________________________________________________\n",
      "conv2d_1 (Conv2D)            (None, 24, 24, 48)        6960      \n",
      "_________________________________________________________________\n",
      "max_pooling2d (MaxPooling2D) (None, 12, 12, 48)        0         \n",
      "_________________________________________________________________\n",
      "dropout (Dropout)            (None, 12, 12, 48)        0         \n",
      "_________________________________________________________________\n",
      "flatten (Flatten)            (None, 6912)              0         \n",
      "_________________________________________________________________\n",
      "dense (Dense)                (None, 128)               884864    \n",
      "_________________________________________________________________\n",
      "dense_1 (Dense)              (None, 10)                1290      \n",
      "=================================================================\n",
      "Total params: 893,274\n",
      "Trainable params: 893,274\n",
      "Non-trainable params: 0\n",
      "_________________________________________________________________\n"
     ]
    }
   ],
   "source": [
    "model.summary()"
   ]
  },
  {
   "cell_type": "markdown",
   "id": "52a8ba38-c8ff-4031-9749-1d1cd93fe9f8",
   "metadata": {},
   "source": [
    "## What's Going On Behind the Scenes\n",
    "[source for images](https://becominghuman.ai/back-propagation-in-convolutional-neural-networks-intuition-and-code-714ef1c38199)\n",
    "\n",
    "Building a model, and understanding how it works, are two very different things. We've discussed how kernels can be used to generate features for images, and seen how these features can be compressed into a managable feature space, but we haven't talked about how back-prop works for kernels.\n",
    "\n",
    "To do that, let's walk through the steps one more time:\n",
    " 1. First we need to pass a kernel over an image to generate a new feature\n",
    "![](https://cdn-images-1.medium.com/max/2000/1*wqZ0Q4mBaHKjqWx45GPIow.gif)\n",
    "\n",
    "| Filter  | Result  |\n",
    "|-----|-----|\n",
    "| ![](https://cdn-images-1.medium.com/max/1600/1*8dwVouGJfSW5JU5hsJfvfw.png) | ![](https://cdn-images-1.medium.com/max/1600/1*KrPwm8IVDzT4XHobJlK50Q.png) |\n",
    "\n",
    " 2. We flatten these \"features\" to enable classification\n",
    " \n",
    " $\\begin{bmatrix}h_{11} & h_{12} & h_{13}\\\\h_{21} & h_{22} & h_{23}\\\\h_{31} & h_{32} & h_{33}\\end{bmatrix} -> \\begin{bmatrix}h_{11} & h_{12} & h_{13} & h_{21} & h_{22} & h_{23} & h_{31} & h_{32} & h_{33}\\end{bmatrix}$\n",
    " \n",
    " \n",
    " 3. We end up with a cost/loss value, that can be propogated back through our model\n",
    " \n",
    " $softmax(h) => \\hat{y} => error(\\hat{y}, y)$\n",
    " \n",
    " \n",
    " 4. We determine the filter update\n",
    " ![](https://cdn-images-1.medium.com/max/2000/1*CkzOyjui3ymVqF54BR6AOQ.gif)\n",
    " \n",
    " ![](https://cdn-images-1.medium.com/max/1600/1*VruqyvXfFMrFCa3E9U6Eog.png)\n",
    " \n"
   ]
  },
  {
   "cell_type": "markdown",
   "id": "d27dd02e-dada-4eff-99f1-025a7a81b02b",
   "metadata": {},
   "source": [
    "### Testing Our Model\n",
    "As usual, once we have a trained model we can use it to make predictions against our dataset. However, given the one-hot encoded nature of the data we will need to do some post-processing on the predictions. Here we'll need to run argmax against the data to get the class labels."
   ]
  },
  {
   "cell_type": "code",
   "execution_count": 12,
   "id": "f5407c46-a606-46ee-8178-09eccc4dce46",
   "metadata": {},
   "outputs": [
    {
     "name": "stdout",
     "output_type": "stream",
     "text": [
      "[7, 7]\n",
      "[2, 2]\n",
      "[1, 1]\n",
      "[0, 0]\n",
      "[4, 4]\n",
      "[1, 1]\n",
      "[4, 4]\n",
      "[9, 9]\n",
      "[5, 5]\n",
      "[9, 9]\n",
      "[0, 0]\n",
      "[6, 6]\n",
      "[9, 9]\n",
      "[0, 0]\n",
      "[1, 1]\n",
      "[5, 5]\n",
      "[9, 9]\n",
      "[7, 7]\n",
      "[3, 3]\n",
      "[4, 4]\n",
      "[9, 9]\n"
     ]
    }
   ],
   "source": [
    "import numpy as np\n",
    "\n",
    "predictions = model.predict(x_test)\n",
    "class_pred = argmax(predictions, axis=1).reshape(-1, 1)\n",
    "\n",
    "class_labels = argmax(y_test_one, axis=1).reshape(-1,1)\n",
    "\n",
    "alignment = np.hstack((class_pred, class_labels))\n",
    "for ix, arr in enumerate(alignment.tolist()):\n",
    "    if ix > 20:\n",
    "        break\n",
    "    print(arr)"
   ]
  },
  {
   "cell_type": "code",
   "execution_count": 13,
   "id": "09fd5eee-9c17-4677-8719-6d0fae9dde45",
   "metadata": {},
   "outputs": [
    {
     "name": "stdout",
     "output_type": "stream",
     "text": [
      "100/100 [==============================] - 1s 12ms/step - loss: 0.0498 - accuracy: 0.9838\n",
      "Test score: 0.049824073910713196\n",
      "Test accuracy: 0.9837999939918518\n"
     ]
    }
   ],
   "source": [
    "\n",
    "score, acc = model.evaluate(x_test, y_test_one, batch_size=100)\n",
    "print('Test score:', score)\n",
    "print('Test accuracy:', acc)\n",
    "\n",
    "# What do you think will happen if we increase our test size?"
   ]
  },
  {
   "cell_type": "markdown",
   "id": "baf4a2b4-4227-41c3-bd72-11ae38e179e8",
   "metadata": {},
   "source": [
    "We can also visualize some of the results, just to get a better sense of how things look"
   ]
  },
  {
   "cell_type": "code",
   "execution_count": 14,
   "id": "44b0636f-7845-4ef9-ad30-61f844d38408",
   "metadata": {},
   "outputs": [
    {
     "name": "stdout",
     "output_type": "stream",
     "text": [
      "3\n"
     ]
    },
    {
     "data": {
      "image/png": "[encoded data removed]",
      "text/plain": [
       "<Figure size 432x288 with 1 Axes>"
      ]
     },
     "metadata": {
      "needs_background": "light"
     },
     "output_type": "display_data"
    }
   ],
   "source": [
    "import cv2\n",
    "\n",
    "test_img = 200\n",
    "\n",
    "plt.imshow(x_test[200], cmap='gray')\n",
    "\n",
    "test_img = x_test[test_img].reshape(1, 28, 28, 1)\n",
    "test_pred = np.argmax(model.predict(test_img))\n",
    "print(label_dict[test_pred])"
   ]
  },
  {
   "cell_type": "code",
   "execution_count": null,
   "id": "78a4fd75-43c0-4c1f-8363-8d323c58f683",
   "metadata": {},
   "outputs": [],
   "source": []
  }
 ],
 "metadata": {
  "interpreter": {
   "hash": "78dbd43dd6335d1b72d64b9a60e24b1d27221aa4d63eb067a11192bd51c1d25a"
  },
  "kernelspec": {
   "display_name": "Python 3 (ipykernel)",
   "language": "python",
   "name": "python3"
  },
  "language_info": {
   "codemirror_mode": {
    "name": "ipython",
    "version": 3
   },
   "file_extension": ".py",
   "mimetype": "text/x-python",
   "name": "python",
   "nbconvert_exporter": "python",
   "pygments_lexer": "ipython3",
   "version": "3.8.10"
  }
 },
 "nbformat": 4,
 "nbformat_minor": 5
}
